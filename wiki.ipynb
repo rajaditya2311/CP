{
 "metadata": {
  "language_info": {
   "codemirror_mode": {
    "name": "ipython",
    "version": 3
   },
   "file_extension": ".py",
   "mimetype": "text/x-python",
   "name": "python",
   "nbconvert_exporter": "python",
   "pygments_lexer": "ipython3",
   "version": "3.9.5"
  },
  "orig_nbformat": 2,
  "kernelspec": {
   "name": "python395jvsc74a57bd02cb096f120bdb1b42126a77c99aece80b796c59f77c8a7d78d469ad358ca1767",
   "display_name": "Python 3.9.5 64-bit"
  }
 },
 "nbformat": 4,
 "nbformat_minor": 2,
 "cells": [
  {
   "cell_type": "code",
   "execution_count": 2,
   "metadata": {},
   "outputs": [],
   "source": [
    "import requests\n",
    "url1 = 'https://en.wikipedia.org/w/api.php'\n",
    "PARAMS={\n",
    "    'action':'opensearch',\n",
    "    'search':'Cricket',\n",
    "    'limit':'5',\n",
    "    'format':'json'\n",
    "\n",
    "}\n",
    "res=requests.get(url=url1,params=PARAMS)\n"
   ]
  },
  {
   "cell_type": "code",
   "execution_count": 3,
   "metadata": {},
   "outputs": [
    {
     "output_type": "execute_result",
     "data": {
      "text/plain": [
       "'[\"Cricket\",[\"Cricket\",\"Cricket World Cup\",\"Cricket (insect)\",\"Cricket in Bangladesh\",\"Cricket pitch\"],[\"\",\"\",\"\",\"\",\"\"],[\"https://en.wikipedia.org/wiki/Cricket\",\"https://en.wikipedia.org/wiki/Cricket_World_Cup\",\"https://en.wikipedia.org/wiki/Cricket_(insect)\",\"https://en.wikipedia.org/wiki/Cricket_in_Bangladesh\",\"https://en.wikipedia.org/wiki/Cricket_pitch\"]]'"
      ]
     },
     "metadata": {},
     "execution_count": 3
    }
   ],
   "source": [
    "res.text"
   ]
  },
  {
   "cell_type": "code",
   "execution_count": 6,
   "metadata": {},
   "outputs": [],
   "source": [
    "import json\n",
    "data= json.loads(res.text)"
   ]
  },
  {
   "cell_type": "code",
   "execution_count": 14,
   "metadata": {},
   "outputs": [
    {
     "output_type": "execute_result",
     "data": {
      "text/plain": [
       "list"
      ]
     },
     "metadata": {},
     "execution_count": 14
    }
   ],
   "source": [
    "type(data)                                                            "
   ]
  },
  {
   "cell_type": "code",
   "execution_count": 15,
   "metadata": {},
   "outputs": [
    {
     "output_type": "execute_result",
     "data": {
      "text/plain": [
       "['Cricket',\n",
       " ['Cricket',\n",
       "  'Cricket World Cup',\n",
       "  'Cricket (insect)',\n",
       "  'Cricket in Bangladesh',\n",
       "  'Cricket pitch'],\n",
       " ['', '', '', '', ''],\n",
       " ['https://en.wikipedia.org/wiki/Cricket',\n",
       "  'https://en.wikipedia.org/wiki/Cricket_World_Cup',\n",
       "  'https://en.wikipedia.org/wiki/Cricket_(insect)',\n",
       "  'https://en.wikipedia.org/wiki/Cricket_in_Bangladesh',\n",
       "  'https://en.wikipedia.org/wiki/Cricket_pitch']]"
      ]
     },
     "metadata": {},
     "execution_count": 15
    }
   ],
   "source": [
    "data"
   ]
  },
  {
   "cell_type": "code",
   "execution_count": 10,
   "metadata": {},
   "outputs": [],
   "source": [
    "url = r\"https://github.com/requests/requests\"\n",
    "res=requests.get(url)"
   ]
  },
  {
   "cell_type": "code",
   "execution_count": 11,
   "metadata": {},
   "outputs": [
    {
     "output_type": "execute_result",
     "data": {
      "text/plain": [
       "<Response [200]>"
      ]
     },
     "metadata": {},
     "execution_count": 11
    }
   ],
   "source": [
    "res                                             #response 200 means it is working fine"
   ]
  },
  {
   "cell_type": "code",
   "execution_count": 12,
   "metadata": {},
   "outputs": [
    {
     "output_type": "execute_result",
     "data": {
      "text/plain": [
       "n</svg>\\n      <span class=\"text-bold\">141</span>\\n      <span class=\"color-text-secondary\">tags</span>\\n</a>\\n            </div>\\n          </div>\\n          <div class=\"BorderGrid-row\">\\n            <div class=\"BorderGrid-cell\">\\n              \\n<h2 class=\"h4 mb-3\">Sponsor this project</h2>\\n<include-fragment src=\"/psf/requests/sponsors_list?block_button=false&amp;current_repository=requests\" aria-busy=\"true\" aria-label=\"Loading sponsorable links\">\\n        <ul class=\"list-style-none\">\\n        </ul>\\n</include-fragment>  <ul class=\"list-style-none\">\\n        <li class=\"mb-2 d-flex\">\\n          <span class=\"mr-2 d-flex flex-items-center flex-justify-center\" style=\"min-width:32px;height:32px;\">\\n            <svg class=\"octicon octicon-link color-text-secondary\" alt=\"custom\" viewBox=\"0 0 16 16\" version=\"1.1\" width=\"16\" height=\"16\" aria-hidden=\"true\"><path fill-rule=\"evenodd\" d=\"M7.775 3.275a.75.75 0 001.06 1.06l1.25-1.25a2 2 0 112.83 2.83l-2.5 2.5a2 2 0 01-2.83 0 .75.75 0 00-1.06 1.06 3.5 3.5 0 004.95 0l2.5-2.5a3.5 3.5 0 00-4.95-4.95l-1.25 1.25zm-4.69 9.64a2 2 0 010-2.83l2.5-2.5a2 2 0 012.83 0 .75.75 0 001.06-1.06 3.5 3.5 0 00-4.95 0l-2.5 2.5a3.5 3.5 0 004.95 4.95l1.25-1.25a.75.75 0 00-1.06-1.06l-1.25 1.25a2 2 0 01-2.83 0z\"></path></svg>\\n          </span>\\n          <span class=\"flex-self-center flex-auto min-width-0 css-truncate css-truncate-target width-fit\">\\n            <a target=\"_blank\" data-ga-click=\"Dashboard, click, Nav menu - item:org-profile context:organization\" data-hydro-click=\"{&quot;event_type&quot;:&quot;sponsors.repo_funding_links_link_click&quot;,&quot;payload&quot;:{&quot;platform&quot;:{&quot;platform_type&quot;:&quot;CUSTOM&quot;,&quot;platform_url&quot;:&quot;https://www.python.org/psf/sponsorship/&quot;},&quot;platforms&quot;:[{&quot;platform_type&quot;:&quot;CUSTOM&quot;,&quot;platform_url&quot;:&quot;https://www.python.org/psf/sponsorship/&quot;}],&quot;repo_id&quot;:1362490,&quot;owner_id&quot;:50630501,&quot;user_id&quot;:null,&quot;originating_url&quot;:&quot;https://github.com/psf/requests&quot;}}\" data-hydro-click-hmac=\"b1d796963e0e158ecc577411a484b6a6fc049a02d0359673b99875e01132cff0\" rel=\"noopener noreferrer\" href=\"https://www.python.org/psf/sponsorship/\">https://www.python.org/psf/sponsorship/</a>\\n          </span>\\n        </li>\\n  </ul>\\n\\n            </div>\\n          </div>\\n          <div class=\"BorderGrid-row\" >\\n            <div class=\"BorderGrid-cell\">\\n              \\n\\n    <h2 class=\"h4 mb-3\">\\n      <a href=\"/psf/requests/network/dependents?package_id=UGFja2FnZS01NzA4OTExNg%3D%3D\" data-view-component=\"true\" class=\"Link--primary no-underline\">\\n        Used by <span title=\"941,526\" data-view-component=\"true\" class=\"Counter\">942k</span>\\n</a>    </h2>\\n\\n      <a class=\"d-flex flex-items-center\" href=\"/psf/requests/network/dependents?package_id=UGFja2FnZS01NzA4OTExNg%3D%3D\">\\n        <ul class=\"hx_flex-avatar-stack list-style-none min-width-0\">\\n              <li class=\"hx_flex-avatar-stack-item\">\\n                <img class=\"avatar avatar-user\" height=\"32\" width=\"32\" alt=\"@amalshaji\" src=\"https://avatars.githubusercontent.com/u/18011385?s=88&amp;u=cc0716977cfadedcc4c4041aa6c79e1f6aad8746&amp;v=4\" />\\n              </li>\\n              <li class=\"hx_flex-avatar-stack-item\">\\n                <img class=\"avatar avatar-user\" height=\"32\" width=\"32\" alt=\"@sandheepk27\" src=\"https://avatars.githubusercontent.com/u/47096873?s=88&amp;v=4\" />\\n              </li>\\n              <li class=\"hx_flex-avatar-stack-item\">\\n                <img class=\"avatar avatar-user\" height=\"32\" width=\"32\" alt=\"@Dev05-Telnet\" src=\"https://avatars.githubusercontent.com/u/71143736?s=88&amp;u=1682c9cbe2375d99d8b41ea6205685d6d1cf2ac8&amp;v=4\" />\\n              </li>\\n              <li class=\"hx_flex-avatar-stack-item\">\\n                <img class=\"avatar avatar-user\" height=\"32\" width=\"32\" alt=\"@crowdbotics-apps\" src=\"https://avatars.githubusercontent.com/u/46582385?s=88&amp;u=5a21a2ef82c647f322f6a9a150d60dde5b1143be&amp;v=4\" />\\n              </li>\\n              <li class=\"hx_flex-avatar-stack-item\">\\n                <img class=\"avatar avatar-user\" height=\"32\" width=\"32\" alt=\"@foemy123\" src=\"https://avatars.githubusercontent.com/u/85613361?s=88&amp;v=4\" />\\n              </li>\\n              <li class=\"hx_flex-avatar-stack-item\">\\n                <img class=\"avatar avatar-user\" height=\"32\" width=\"32\" alt=\"@BotsVain\" src=\"https://avatars.githubusercontent.com/u/84259213?s=88&amp;v=4\" />\\n              </li>\\n              <li class=\"hx_flex-avatar-stack-item\">\\n                <img class=\"avatar avatar-user\" height=\"32\" width=\"32\" alt=\"@Chocolate-Monster\" src=\"https://avatars.githubusercontent.com/u/82182857?s=88&amp;u=cba88644030d1e64bb03d688db0a49fe23614717&amp;v=4\" />\\n              </li>\\n              <li class=\"hx_flex-avatar-stack-item\">\\n                <img class=\"avatar avatar-user\" height=\"32\" width=\"32\" alt=\"@nayanex\" src=\"https://avatars.githubusercontent.com/u/3999511?s=88&amp;u=24524e61f7fce185b8e28b7eb9b45343d3330291&amp;v=4\" />\\n              </li>\\n        </ul>\\n          <span class=\"px-2 text-bold text-small no-wrap\">\\n            + 941,518\\n          </span>\\n      </a>\\n\\n            </div>\\n          </div>\\n          <div class=\"BorderGrid-row\">\\n            <div class=\"BorderGrid-cell\">\\n              <h2 class=\"h4 mb-3\">\\n  <a href=\"/psf/requests/graphs/contributors\" data-view-component=\"true\" class=\"Link--primary no-underline\">\\n    Contributors <span title=\"610\" data-view-component=\"true\" class=\"Counter\">610</span>\\n</a></h2>\\n\\n\\n    \\n  <ul class=\"list-style-none d-flex flex-wrap mb-n2\">\\n      <li class=\"mb-2 mr-2\">\\n        <a class=\"\" data-hovercard-type=\"user\" data-hovercard-url=\"/users/kennethreitz/hovercard\" data-octo-click=\"hovercard-link-click\" data-octo-dimensions=\"link_type:self\" href=\"/kennethreitz\">\\n          <img class=\"d-block avatar-user\" src=\"https://avatars.githubusercontent.com/u/119893?s=64&amp;v=4\" width=\"32\" height=\"32\" alt=\"@kennethreitz\" />\\n</a>      </li>\\n      <li class=\"mb-2 mr-2\">\\n        <a class=\"\" data-hovercard-type=\"user\" data-hovercard-url=\"/users/Lukasa/hovercard\" data-octo-click=\"hovercard-link-click\" data-octo-dimensions=\"link_type:self\" href=\"/Lukasa\">\\n          <img class=\"d-block avatar-user\" src=\"https://avatars.githubusercontent.com/u/1382556?s=64&amp;v=4\" width=\"32\" height=\"32\" alt=\"@Lukasa\" />\\n</a>      </li>\\n      <li class=\"mb-2 mr-2\">\\n        <a class=\"\" data-hovercard-type=\"user\" data-hovercard-url=\"/users/sigmavirus24/hovercard\" data-octo-click=\"hovercard-link-click\" data-octo-dimensions=\"link_type:self\" href=\"/sigmavirus24\">\\n          <img class=\"d-block avatar-user\" src=\"https://avatars.githubusercontent.com/u/240830?s=64&amp;v=4\" width=\"32\" height=\"32\" alt=\"@sigmavirus24\" />\\n</a>      </li>\\n      <li class=\"mb-2 mr-2\">\\n        <a class=\"\" data-hovercard-type=\"user\" data-hovercard-url=\"/users/nateprewitt/hovercard\" data-octo-click=\"hovercard-link-click\" data-octo-dimensions=\"link_type:self\" href=\"/nateprewitt\">\\n          <img class=\"d-block avatar-user\" src=\"https://avatars.githubusercontent.com/u/5271761?s=64&amp;v=4\" width=\"32\" height=\"32\" alt=\"@nateprewitt\" />\\n</a>      </li>\\n      <li class=\"mb-2 mr-2\">\\n        <a class=\"\" data-hovercard-type=\"user\" data-hovercard-url=\"/users/slingamn/hovercard\" data-octo-click=\"hovercard-link-click\" data-octo-dimensions=\"link_type:self\" href=\"/slingamn\">\\n          <img class=\"d-block avatar-user\" src=\"https://avatars.githubusercontent.com/u/376448?s=64&amp;v=4\" width=\"32\" height=\"32\" alt=\"@slingamn\" />\\n</a>      </li>\\n      <li class=\"mb-2 mr-2\">\\n        <a class=\"\" data-hovercard-type=\"user\" data-hovercard-url=\"/users/BraulioVM/hovercard\" data-octo-click=\"hovercard-link-click\" data-octo-dimensions=\"link_type:self\" href=\"/BraulioVM\">\\n          <img class=\"d-block avatar-user\" src=\"https://avatars.githubusercontent.com/u/715372?s=64&amp;v=4\" width=\"32\" height=\"32\" alt=\"@BraulioVM\" />\\n</a>      </li>\\n      <li class=\"mb-2 mr-2\">\\n        <a class=\"\" data-hovercard-type=\"user\" data-hovercard-url=\"/users/dpursehouse/hovercard\" data-octo-click=\"hovercard-link-click\" data-octo-dimensions=\"link_type:self\" href=\"/dpursehouse\">\\n          <img class=\"d-block avatar-user\" src=\"https://avatars.githubusercontent.com/u/836426?s=64&amp;v=4\" width=\"32\" height=\"32\" alt=\"@dpursehouse\" />\\n</a>      </li>\\n      <li class=\"mb-2 mr-2\">\\n        <a class=\"\" data-hovercard-type=\"user\" data-hovercard-url=\"/users/kevinburke/hovercard\" data-octo-click=\"hovercard-link-click\" data-octo-dimensions=\"link_type:self\" href=\"/kevinburke\">\\n          <img class=\"d-block avatar-user\" src=\"https://avatars.githubusercontent.com/u/234019?s=64&amp;v=4\" width=\"32\" height=\"32\" alt=\"@kevinburke\" />\\n</a>      </li>\\n      <li class=\"mb-2 mr-2\">\\n        <a class=\"\" data-hovercard-type=\"user\" data-hovercard-url=\"/users/jgorset/hovercard\" data-octo-click=\"hovercard-link-click\" data-octo-dimensions=\"link_type:self\" href=\"/jgorset\">\\n          <img class=\"d-block avatar-user\" src=\"https://avatars.githubusercontent.com/u/195266?s=64&amp;v=4\" width=\"32\" height=\"32\" alt=\"@jgorset\" />\\n</a>      </li>\\n      <li class=\"mb-2 mr-2\">\\n        <a class=\"\" data-hovercard-type=\"user\" data-hovercard-url=\"/users/daftshady/hovercard\" data-octo-click=\"hovercard-link-click\" data-octo-dimensions=\"link_type:self\" href=\"/daftshady\">\\n          <img class=\"d-block avatar-user\" src=\"https://avatars.githubusercontent.com/u/3482660?s=64&amp;v=4\" width=\"32\" height=\"32\" alt=\"@daftshady\" />\\n</a>      </li>\\n      <li class=\"mb-2 mr-2\">\\n        <a class=\"\" data-hovercard-type=\"user\" data-hovercard-url=\"/users/jerem/hovercard\" data-octo-click=\"hovercard-link-click\" data-octo-dimensions=\"link_type:self\" href=\"/jerem\">\\n          <img class=\"d-block avatar-user\" src=\"https://avatars.githubusercontent.com/u/36156?s=64&amp;v=4\" width=\"32\" height=\"32\" alt=\"@jerem\" />\\n</a>      </li>\\n  </ul>\\n\\n\\n  <div data-view-component=\"true\" class=\"mt-3\">\\n    <a href=\"/psf/requests/graphs/contributors\" data-view-component=\"true\" class=\"text-small\">\\n      + 599 contributors\\n</a></div>\\n            </div>\\n          </div>\\n          <div class=\"BorderGrid-row\">\\n            <div class=\"BorderGrid-cell\">\\n              <h2 class=\"h4 mb-3\">Languages</h2>\\n<div class=\"mb-2\">\\n  <span data-view-component=\"true\" class=\"Progress\">\\n    <span itemprop=\"keywords\" aria-label=\"Python 99.7\" style=\"background-color: #3572A5;width: 99.7%;\" data-view-component=\"true\" class=\"Progress-item\"></span>\\n    <span itemprop=\"keywords\" aria-label=\"Makefile 0.3\" style=\"background-color: #427819;width: 0.3%;\" data-view-component=\"true\" class=\"Progress-item\"></span>\\n</span></div>\\n<ul class=\"list-style-none\">\\n    <li class=\"d-inline\">\\n      <a class=\"d-inline-flex flex-items-center flex-nowrap Link--secondary no-underline text-small mr-3\" href=\"/psf/requests/search?l=python\"  data-ga-click=\"Repository, language stats search click, location:repo overview\">\\n        <svg class=\"octicon octicon-dot-fill mr-2\" style=\"color:#3572A5;\" viewBox=\"0 0 16 16\" version=\"1.1\" width=\"16\" height=\"16\" aria-hidden=\"true\"><path fill-rule=\"evenodd\" d=\"M8 4a4 4 0 100 8 4 4 0 000-8z\"></path></svg>\\n        <span class=\"color-text-primary text-bold mr-1\">Python</span>\\n        <span>99.7%</span>\\n      </a>\\n    </li>\\n    <li class=\"d-inline\">\\n      <a class=\"d-inline-flex flex-items-center flex-nowrap Link--secondary no-underline text-small mr-3\" href=\"/psf/requests/search?l=makefile\"  data-ga-click=\"Repository, language stats search click, location:repo overview\">\\n        <svg class=\"octicon octicon-dot-fill mr-2\" style=\"color:#427819;\" viewBox=\"0 0 16 16\" version=\"1.1\" width=\"16\" height=\"16\" aria-hidden=\"true\"><path fill-rule=\"evenodd\" d=\"M8 4a4 4 0 100 8 4 4 0 000-8z\"></path></svg>\\n        <span class=\"color-text-primary text-bold mr-1\">Makefile</span>\\n        <span>0.3%</span>\\n      </a>\\n    </li>\\n</ul>\\n\\n            </div>\\n          </div>\\n      </div>\\n</div>\\n</div></div>\\n\\n\\n\\n  </div>\\n</div>\\n\\n    </main>\\n  </div>\\n\\n  </div>\\n\\n          \\n<div class=\"footer container-xl width-full p-responsive\" role=\"contentinfo\">\\n  <div class=\"position-relative d-flex flex-row-reverse flex-lg-row flex-wrap flex-lg-nowrap flex-justify-center flex-lg-justify-between pt-6 pb-2 mt-6 f6 color-text-secondary border-top color-border-secondary \">\\n    <ul class=\"list-style-none d-flex flex-wrap col-12 col-lg-5 flex-justify-center flex-lg-justify-between mb-2 mb-lg-0\">\\n      <li class=\"mr-3 mr-lg-0\">&copy; 2021 GitHub, Inc.</li>\\n        <li class=\"mr-3 mr-lg-0\"><a href=\"https://docs.github.com/en/github/site-policy/github-terms-of-service\" data-ga-click=\"Footer, go to terms, text:terms\">Terms</a></li>\\n        <li class=\"mr-3 mr-lg-0\"><a href=\"https://docs.github.com/en/github/site-policy/github-privacy-statement\" data-ga-click=\"Footer, go to privacy, text:privacy\">Privacy</a></li>\\n        <li class=\"mr-3 mr-lg-0\"><a data-ga-click=\"Footer, go to security, text:security\" href=\"https://github.com/security\">Security</a></li>\\n        <li class=\"mr-3 mr-lg-0\"><a href=\"https://www.githubstatus.com/\" data-ga-click=\"Footer, go to status, text:status\">Status</a></li>\\n        <li><a data-ga-click=\"Footer, go to help, text:Docs\" href=\"https://docs.github.com\">Docs</a></li>\\n    </ul>\\n\\n    <a aria-label=\"Homepage\" title=\"GitHub\" class=\"footer-octicon d-none d-lg-block mx-lg-4\" href=\"https://github.com\">\\n      <svg aria-hidden=\"true\" viewBox=\"0 0 16 16\" version=\"1.1\" data-view-component=\"true\" height=\"24\" width=\"24\" class=\"octicon octicon-mark-github\">\\n    <path fill-rule=\"evenodd\" d=\"M8 0C3.58 0 0 3.58 0 8c0 3.54 2.29 6.53 5.47 7.59.4.07.55-.17.55-.38 0-.19-.01-.82-.01-1.49-2.01.37-2.53-.49-2.69-.94-.09-.23-.48-.94-.82-1.13-.28-.15-.68-.52-.01-.53.63-.01 1.08.58 1.23.82.72 1.21 1.87.87 2.33.66.07-.52.28-.87.51-1.07-1.78-.2-3.64-.89-3.64-3.95 0-.87.31-1.59.82-2.15-.08-.2-.36-1.02.08-2.12 0 0 .67-.21 2.2.82.64-.18 1.32-.27 2-.27.68 0 1.36.09 2 .27 1.53-1.04 2.2-.82 2.2-.82.44 1.1.16 1.92.08 2.12.51.56.82 1.27.82 2.15 0 3.07-1.87 3.75-3.65 3.95.29.25.54.73.54 1.48 0 1.07-.01 1.93-.01 2.2 0 .21.15.46.55.38A8.013 8.013 0 0016 8c0-4.42-3.58-8-8-8z\"></path>\\n</svg>\\n</a>\\n    <ul class=\"list-style-none d-flex flex-wrap col-12 col-lg-5 flex-justify-center flex-lg-justify-between mb-2 mb-lg-0\">\\n        <li class=\"mr-3 mr-lg-0\"><a href=\"https://support.github.com\" data-ga-click=\"Footer, go to contact, text:contact\">Contact GitHub</a></li>\\n        <li class=\"mr-3 mr-lg-0\"><a href=\"https://github.com/pricing\" data-ga-click=\"Footer, go to Pricing, text:Pricing\">Pricing</a></li>\\n      <li class=\"mr-3 mr-lg-0\"><a href=\"https://docs.github.com\" data-ga-click=\"Footer, go to api, text:api\">API</a></li>\\n      <li class=\"mr-3 mr-lg-0\"><a href=\"https://services.github.com\" data-ga-click=\"Footer, go to training, text:training\">Training</a></li>\\n        <li class=\"mr-3 mr-lg-0\"><a href=\"https://github.blog\" data-ga-click=\"Footer, go to blog, text:blog\">Blog</a></li>\\n        <li><a data-ga-click=\"Footer, go to about, text:about\" href=\"https://github.com/about\">About</a></li>\\n    </ul>\\n  </div>\\n  <div class=\"d-flex flex-justify-center pb-6\">\\n    <span class=\"f6 color-text-tertiary\"></span>\\n  </div>\\n\\n  \\n</div>\\n\\n\\n\\n  <div id=\"ajax-error-message\" class=\"ajax-error-message flash flash-error\" hidden>\\n    <svg aria-hidden=\"true\" viewBox=\"0 0 16 16\" version=\"1.1\" data-view-component=\"true\" height=\"16\" width=\"16\" class=\"octicon octicon-alert\">\\n    <path fill-rule=\"evenodd\" d=\"M8.22 1.754a.25.25 0 00-.44 0L1.698 13.132a.25.25 0 00.22.368h12.164a.25.25 0 00.22-.368L8.22 1.754zm-1.763-.707c.659-1.234 2.427-1.234 3.086 0l6.082 11.378A1.75 1.75 0 0114.082 15H1.918a1.75 1.75 0 01-1.543-2.575L6.457 1.047zM9 11a1 1 0 11-2 0 1 1 0 012 0zm-.25-5.25a.75.75 0 00-1.5 0v2.5a.75.75 0 001.5 0v-2.5z\"></path>\\n</svg>\\n    <button type=\"button\" class=\"flash-close js-ajax-error-dismiss\" aria-label=\"Dismiss error\">\\n      <svg aria-hidden=\"true\" viewBox=\"0 0 16 16\" version=\"1.1\" data-view-component=\"true\" height=\"16\" width=\"16\" class=\"octicon octicon-x\">\\n    <path fill-rule=\"evenodd\" d=\"M3.72 3.72a.75.75 0 011.06 0L8 6.94l3.22-3.22a.75.75 0 111.06 1.06L9.06 8l3.22 3.22a.75.75 0 11-1.06 1.06L8 9.06l-3.22 3.22a.75.75 0 01-1.06-1.06L6.94 8 3.72 4.78a.75.75 0 010-1.06z\"></path>\\n</svg>\\n    </button>\\n    You can’t perform that action at this time.\\n  </div>\\n\\n  <div class=\"js-stale-session-flash flash flash-warn flash-banner\" hidden\\n    >\\n    <svg aria-hidden=\"true\" viewBox=\"0 0 16 16\" version=\"1.1\" data-view-component=\"true\" height=\"16\" width=\"16\" class=\"octicon octicon-alert\">\\n    <path fill-rule=\"evenodd\" d=\"M8.22 1.754a.25.25 0 00-.44 0L1.698 13.132a.25.25 0 00.22.368h12.164a.25.25 0 00.22-.368L8.22 1.754zm-1.763-.707c.659-1.234 2.427-1.234 3.086 0l6.082 11.378A1.75 1.75 0 0114.082 15H1.918a1.75 1.75 0 01-1.543-2.575L6.457 1.047zM9 11a1 1 0 11-2 0 1 1 0 012 0zm-.25-5.25a.75.75 0 00-1.5 0v2.5a.75.75 0 001.5 0v-2.5z\"></path>\\n</svg>\\n    <span class=\"js-stale-session-flash-signed-in\" hidden>You signed in with another tab or window. <a href=\"\">Reload</a> to refresh your session.</span>\\n    <span class=\"js-stale-session-flash-signed-out\" hidden>You signed out in another tab or window. <a href=\"\">Reload</a> to refresh your session.</span>\\n  </div>\\n    <template id=\"site-details-dialog\">\\n  <details class=\"details-reset details-overlay details-overlay-dark lh-default color-text-primary hx_rsm\" open>\\n    <summary role=\"button\" aria-label=\"Close dialog\"></summary>\\n    <details-dialog class=\"Box Box--overlay d-flex flex-column anim-fade-in fast hx_rsm-dialog hx_rsm-modal\">\\n      <button class=\"Box-btn-octicon m-0 btn-octicon position-absolute right-0 top-0\" type=\"button\" aria-label=\"Close dialog\" data-close-dialog>\\n        <svg aria-hidden=\"true\" viewBox=\"0 0 16 16\" version=\"1.1\" data-view-component=\"true\" height=\"16\" width=\"16\" class=\"octicon octicon-x\">\\n    <path fill-rule=\"evenodd\" d=\"M3.72 3.72a.75.75 0 011.06 0L8 6.94l3.22-3.22a.75.75 0 111.06 1.06L9.06 8l3.22 3.22a.75.75 0 11-1.06 1.06L8 9.06l-3.22 3.22a.75.75 0 01-1.06-1.06L6.94 8 3.72 4.78a.75.75 0 010-1.06z\"></path>\\n</svg>\\n      </button>\\n      <div class=\"octocat-spinner my-6 js-details-dialog-spinner\"></div>\\n    </details-dialog>\\n  </details>\\n</template>\\n\\n    <div class=\"Popover js-hovercard-content position-absolute\" style=\"display: none; outline: none;\" tabindex=\"0\">\\n  <div class=\"Popover-message Popover-message--bottom-left Popover-message--large Box color-shadow-large\" style=\"width:360px;\">\\n  </div>\\n</div>\\n\\n    <template id=\"snippet-clipboard-copy-button\">\\n  <div class=\"zeroclipboard-container position-absolute right-0 top-0\">\\n    <clipboard-copy aria-label=\"Copy\" class=\"ClipboardButton btn js-clipboard-copy m-2 p-0 tooltipped-no-delay\" data-copy-feedback=\"Copied!\" data-tooltip-direction=\"w\">\\n      <svg aria-hidden=\"true\" viewBox=\"0 0 16 16\" version=\"1.1\" data-view-component=\"true\" height=\"16\" width=\"16\" class=\"octicon octicon-clippy js-clipboard-clippy-icon m-2\">\\n    <path fill-rule=\"evenodd\" d=\"M5.75 1a.75.75 0 00-.75.75v3c0 .414.336.75.75.75h4.5a.75.75 0 00.75-.75v-3a.75.75 0 00-.75-.75h-4.5zm.75 3V2.5h3V4h-3zm-2.874-.467a.75.75 0 00-.752-1.298A1.75 1.75 0 002 3.75v9.5c0 .966.784 1.75 1.75 1.75h8.5A1.75 1.75 0 0014 13.25v-9.5a1.75 1.75 0 00-.874-1.515.75.75 0 10-.752 1.298.25.25 0 01.126.217v9.5a.25.25 0 01-.25.25h-8.5a.25.25 0 01-.25-.25v-9.5a.25.25 0 01.126-.217z\"></path>\\n</svg>\\n      <svg aria-hidden=\"true\" viewBox=\"0 0 16 16\" version=\"1.1\" data-view-component=\"true\" height=\"16\" width=\"16\" class=\"octicon octicon-check js-clipboard-check-icon color-text-success d-none m-2\">\\n    <path fill-rule=\"evenodd\" d=\"M13.78 4.22a.75.75 0 010 1.06l-7.25 7.25a.75.75 0 01-1.06 0L2.22 9.28a.75.75 0 011.06-1.06L6 10.94l6.72-6.72a.75.75 0 011.06 0z\"></path>\\n</svg>\\n    </clipboard-copy>\\n  </div>\\n</template>\\n\\n\\n\\n  \\n\\n  </body>\\n</html>\\n\\n'"
      ]
     },
     "metadata": {},
     "execution_count": 12
    }
   ],
   "source": [
    "res.text"
   ]
  },
  {
   "cell_type": "code",
   "execution_count": 13,
   "metadata": {},
   "outputs": [
    {
     "output_type": "execute_result",
     "data": {
      "text/plain": [
       "str"
      ]
     },
     "metadata": {},
     "execution_count": 13
    }
   ],
   "source": [
    "type(res.text)                                  #whole code is in form of string"
   ]
  },
  {
   "cell_type": "code",
   "execution_count": 19,
   "metadata": {},
   "outputs": [],
   "source": [
    "import bs4\n",
    "data= bs4.BeautifulSoup(res.text,'html')\n"
   ]
  },
  {
   "cell_type": "code",
   "execution_count": 20,
   "metadata": {},
   "outputs": [
    {
     "output_type": "execute_result",
     "data": {
      "text/plain": [
       "869.23l-1.288.737A.25.25 0 013.984 3H1.75a.75.75 0 000 1.5h.428L.066 9.192a.75.75 0 00.154.838l.53-.53-.53.53v.001l.002.002.002.002.006.006.016.015.045.04a3.514 3.514 0 00.686.45A4.492 4.492 0 003 11c.88 0 1.556-.22 2.023-.454a3.515 3.515 0 00.686-.45l.045-.04.016-.015.006-.006.002-.002.001-.002L5.25 9.5l.53.53a.75.75 0 00.154-.838L3.822 4.5h.162c.305 0 .604-.08.869-.23l1.289-.737a.25.25 0 01.124-.033h.984V13h-2.5a.75.75 0 000 1.5h6.5a.75.75 0 000-1.5h-2.5V3.5h.984a.25.25 0 01.124.033l1.29.736c.264.152.563.231.868.231h.162l-2.112 4.692a.75.75 0 00.154.838l.53-.53-.53.53v.001l.002.002.002.002.006.006.016.015.045.04a3.517 3.517 0 00.686.45A4.492 4.492 0 0013 11c.88 0 1.556-.22 2.023-.454a3.512 3.512 0 00.686-.45l.045-.04.01-.01.006-.005.006-.006.002-.002.001-.002-.529-.531.53.53a.75.75 0 00.154-.838L13.823 4.5h.427a.75.75 0 000-1.5h-2.234a.25.25 0 01-.124-.033l-1.29-.736A1.75 1.75 0 009.735 2H8.75V.75zM1.695 9.227c.285.135.718.273 1.305.273s1.02-.138 1.305-.273L3 6.327l-1.305 2.9zm10 0c.285.135.718.273 1.305.273s1.02-.138 1.305-.273L13 6.327l-1.305 2.9z\" fill-rule=\"evenodd\"></path>\n",
       "</svg>\n",
       "        Apache-2.0 License\n",
       "    </a>\n",
       "</div>\n",
       "</div>\n",
       "</div>\n",
       "<div class=\"BorderGrid-row\">\n",
       "<div class=\"BorderGrid-cell\">\n",
       "<h2 class=\"h4 mb-3\">\n",
       "<a class=\"Link--primary no-underline\" data-view-component=\"true\" href=\"/psf/requests/releases\">\n",
       "    Releases\n",
       "</a></h2>\n",
       "<a class=\"Link--primary no-underline\" href=\"/psf/requests/releases\">\n",
       "<svg aria-hidden=\"true\" class=\"octicon octicon-tag\" data-view-component=\"true\" height=\"16\" version=\"1.1\" viewbox=\"0 0 16 16\" width=\"16\">\n",
       "<path d=\"M2.5 7.775V2.75a.25.25 0 01.25-.25h5.025a.25.25 0 01.177.073l6.25 6.25a.25.25 0 010 .354l-5.025 5.025a.25.25 0 01-.354 0l-6.25-6.25a.25.25 0 01-.073-.177zm-1.5 0V2.75C1 1.784 1.784 1 2.75 1h5.025c.464 0 .91.184 1.238.513l6.25 6.25a1.75 1.75 0 010 2.474l-5.026 5.026a1.75 1.75 0 01-2.474 0l-6.25-6.25A1.75 1.75 0 011 7.775zM6 5a1 1 0 100 2 1 1 0 000-2z\" fill-rule=\"evenodd\"></path>\n",
       "</svg>\n",
       "<span class=\"text-bold\">141</span>\n",
       "<span class=\"color-text-secondary\">tags</span>\n",
       "</a>\n",
       "</div>\n",
       "</div>\n",
       "<div class=\"BorderGrid-row\">\n",
       "<div class=\"BorderGrid-cell\">\n",
       "<h2 class=\"h4 mb-3\">Sponsor this project</h2>\n",
       "<include-fragment aria-busy=\"true\" aria-label=\"Loading sponsorable links\" src=\"/psf/requests/sponsors_list?block_button=false&amp;current_repository=requests\">\n",
       "<ul class=\"list-style-none\">\n",
       "</ul>\n",
       "</include-fragment> <ul class=\"list-style-none\">\n",
       "<li class=\"mb-2 d-flex\">\n",
       "<span class=\"mr-2 d-flex flex-items-center flex-justify-center\" style=\"min-width:32px;height:32px;\">\n",
       "<svg alt=\"custom\" aria-hidden=\"true\" class=\"octicon octicon-link color-text-secondary\" height=\"16\" version=\"1.1\" viewbox=\"0 0 16 16\" width=\"16\"><path d=\"M7.775 3.275a.75.75 0 001.06 1.06l1.25-1.25a2 2 0 112.83 2.83l-2.5 2.5a2 2 0 01-2.83 0 .75.75 0 00-1.06 1.06 3.5 3.5 0 004.95 0l2.5-2.5a3.5 3.5 0 00-4.95-4.95l-1.25 1.25zm-4.69 9.64a2 2 0 010-2.83l2.5-2.5a2 2 0 012.83 0 .75.75 0 001.06-1.06 3.5 3.5 0 00-4.95 0l-2.5 2.5a3.5 3.5 0 004.95 4.95l1.25-1.25a.75.75 0 00-1.06-1.06l-1.25 1.25a2 2 0 01-2.83 0z\" fill-rule=\"evenodd\"></path></svg>\n",
       "</span>\n",
       "<span class=\"flex-self-center flex-auto min-width-0 css-truncate css-truncate-target width-fit\">\n",
       "<a data-ga-click=\"Dashboard, click, Nav menu - item:org-profile context:organization\" data-hydro-click='{\"event_type\":\"sponsors.repo_funding_links_link_click\",\"payload\":{\"platform\":{\"platform_type\":\"CUSTOM\",\"platform_url\":\"https://www.python.org/psf/sponsorship/\"},\"platforms\":[{\"platform_type\":\"CUSTOM\",\"platform_url\":\"https://www.python.org/psf/sponsorship/\"}],\"repo_id\":1362490,\"owner_id\":50630501,\"user_id\":null,\"originating_url\":\"https://github.com/psf/requests\"}}' data-hydro-click-hmac=\"b1d796963e0e158ecc577411a484b6a6fc049a02d0359673b99875e01132cff0\" href=\"https://www.python.org/psf/sponsorship/\" rel=\"noopener noreferrer\" target=\"_blank\">https://www.python.org/psf/sponsorship/</a>\n",
       "</span>\n",
       "</li>\n",
       "</ul>\n",
       "</div>\n",
       "</div>\n",
       "<div class=\"BorderGrid-row\">\n",
       "<div class=\"BorderGrid-cell\">\n",
       "<h2 class=\"h4 mb-3\">\n",
       "<a class=\"Link--primary no-underline\" data-view-component=\"true\" href=\"/psf/requests/network/dependents?package_id=UGFja2FnZS01NzA4OTExNg%3D%3D\">\n",
       "        Used by <span class=\"Counter\" data-view-component=\"true\" title=\"941,526\">942k</span>\n",
       "</a> </h2>\n",
       "<a class=\"d-flex flex-items-center\" href=\"/psf/requests/network/dependents?package_id=UGFja2FnZS01NzA4OTExNg%3D%3D\">\n",
       "<ul class=\"hx_flex-avatar-stack list-style-none min-width-0\">\n",
       "<li class=\"hx_flex-avatar-stack-item\">\n",
       "<img alt=\"@amalshaji\" class=\"avatar avatar-user\" height=\"32\" src=\"https://avatars.githubusercontent.com/u/18011385?s=88&amp;u=cc0716977cfadedcc4c4041aa6c79e1f6aad8746&amp;v=4\" width=\"32\">\n",
       "</img></li>\n",
       "<li class=\"hx_flex-avatar-stack-item\">\n",
       "<img alt=\"@sandheepk27\" class=\"avatar avatar-user\" height=\"32\" src=\"https://avatars.githubusercontent.com/u/47096873?s=88&amp;v=4\" width=\"32\">\n",
       "</img></li>\n",
       "<li class=\"hx_flex-avatar-stack-item\">\n",
       "<img alt=\"@Dev05-Telnet\" class=\"avatar avatar-user\" height=\"32\" src=\"https://avatars.githubusercontent.com/u/71143736?s=88&amp;u=1682c9cbe2375d99d8b41ea6205685d6d1cf2ac8&amp;v=4\" width=\"32\">\n",
       "</img></li>\n",
       "<li class=\"hx_flex-avatar-stack-item\">\n",
       "<img alt=\"@crowdbotics-apps\" class=\"avatar avatar-user\" height=\"32\" src=\"https://avatars.githubusercontent.com/u/46582385?s=88&amp;u=5a21a2ef82c647f322f6a9a150d60dde5b1143be&amp;v=4\" width=\"32\">\n",
       "</img></li>\n",
       "<li class=\"hx_flex-avatar-stack-item\">\n",
       "<img alt=\"@foemy123\" class=\"avatar avatar-user\" height=\"32\" src=\"https://avatars.githubusercontent.com/u/85613361?s=88&amp;v=4\" width=\"32\">\n",
       "</img></li>\n",
       "<li class=\"hx_flex-avatar-stack-item\">\n",
       "<img alt=\"@BotsVain\" class=\"avatar avatar-user\" height=\"32\" src=\"https://avatars.githubusercontent.com/u/84259213?s=88&amp;v=4\" width=\"32\">\n",
       "</img></li>\n",
       "<li class=\"hx_flex-avatar-stack-item\">\n",
       "<img alt=\"@Chocolate-Monster\" class=\"avatar avatar-user\" height=\"32\" src=\"https://avatars.githubusercontent.com/u/82182857?s=88&amp;u=cba88644030d1e64bb03d688db0a49fe23614717&amp;v=4\" width=\"32\">\n",
       "</img></li>\n",
       "<li class=\"hx_flex-avatar-stack-item\">\n",
       "<img alt=\"@nayanex\" class=\"avatar avatar-user\" height=\"32\" src=\"https://avatars.githubusercontent.com/u/3999511?s=88&amp;u=24524e61f7fce185b8e28b7eb9b45343d3330291&amp;v=4\" width=\"32\">\n",
       "</img></li>\n",
       "</ul>\n",
       "<span class=\"px-2 text-bold text-small no-wrap\">\n",
       "            + 941,518\n",
       "          </span>\n",
       "</a>\n",
       "</div>\n",
       "</div>\n",
       "<div class=\"BorderGrid-row\">\n",
       "<div class=\"BorderGrid-cell\">\n",
       "<h2 class=\"h4 mb-3\">\n",
       "<a class=\"Link--primary no-underline\" data-view-component=\"true\" href=\"/psf/requests/graphs/contributors\">\n",
       "    Contributors <span class=\"Counter\" data-view-component=\"true\" title=\"610\">610</span>\n",
       "</a></h2>\n",
       "<ul class=\"list-style-none d-flex flex-wrap mb-n2\">\n",
       "<li class=\"mb-2 mr-2\">\n",
       "<a class=\"\" data-hovercard-type=\"user\" data-hovercard-url=\"/users/kennethreitz/hovercard\" data-octo-click=\"hovercard-link-click\" data-octo-dimensions=\"link_type:self\" href=\"/kennethreitz\">\n",
       "<img alt=\"@kennethreitz\" class=\"d-block avatar-user\" height=\"32\" src=\"https://avatars.githubusercontent.com/u/119893?s=64&amp;v=4\" width=\"32\">\n",
       "</img></a> </li>\n",
       "<li class=\"mb-2 mr-2\">\n",
       "<a class=\"\" data-hovercard-type=\"user\" data-hovercard-url=\"/users/Lukasa/hovercard\" data-octo-click=\"hovercard-link-click\" data-octo-dimensions=\"link_type:self\" href=\"/Lukasa\">\n",
       "<img alt=\"@Lukasa\" class=\"d-block avatar-user\" height=\"32\" src=\"https://avatars.githubusercontent.com/u/1382556?s=64&amp;v=4\" width=\"32\">\n",
       "</img></a> </li>\n",
       "<li class=\"mb-2 mr-2\">\n",
       "<a class=\"\" data-hovercard-type=\"user\" data-hovercard-url=\"/users/sigmavirus24/hovercard\" data-octo-click=\"hovercard-link-click\" data-octo-dimensions=\"link_type:self\" href=\"/sigmavirus24\">\n",
       "<img alt=\"@sigmavirus24\" class=\"d-block avatar-user\" height=\"32\" src=\"https://avatars.githubusercontent.com/u/240830?s=64&amp;v=4\" width=\"32\"/>\n",
       "</a> </li>\n",
       "<li class=\"mb-2 mr-2\">\n",
       "<a class=\"\" data-hovercard-type=\"user\" data-hovercard-url=\"/users/nateprewitt/hovercard\" data-octo-click=\"hovercard-link-click\" data-octo-dimensions=\"link_type:self\" href=\"/nateprewitt\">\n",
       "<img alt=\"@nateprewitt\" class=\"d-block avatar-user\" height=\"32\" src=\"https://avatars.githubusercontent.com/u/5271761?s=64&amp;v=4\" width=\"32\"/>\n",
       "</a> </li>\n",
       "<li class=\"mb-2 mr-2\">\n",
       "<a class=\"\" data-hovercard-type=\"user\" data-hovercard-url=\"/users/slingamn/hovercard\" data-octo-click=\"hovercard-link-click\" data-octo-dimensions=\"link_type:self\" href=\"/slingamn\">\n",
       "<img alt=\"@slingamn\" class=\"d-block avatar-user\" height=\"32\" src=\"https://avatars.githubusercontent.com/u/376448?s=64&amp;v=4\" width=\"32\"/>\n",
       "</a> </li>\n",
       "<li class=\"mb-2 mr-2\">\n",
       "<a class=\"\" data-hovercard-type=\"user\" data-hovercard-url=\"/users/BraulioVM/hovercard\" data-octo-click=\"hovercard-link-click\" data-octo-dimensions=\"link_type:self\" href=\"/BraulioVM\">\n",
       "<img alt=\"@BraulioVM\" class=\"d-block avatar-user\" height=\"32\" src=\"https://avatars.githubusercontent.com/u/715372?s=64&amp;v=4\" width=\"32\"/>\n",
       "</a> </li>\n",
       "<li class=\"mb-2 mr-2\">\n",
       "<a class=\"\" data-hovercard-type=\"user\" data-hovercard-url=\"/users/dpursehouse/hovercard\" data-octo-click=\"hovercard-link-click\" data-octo-dimensions=\"link_type:self\" href=\"/dpursehouse\">\n",
       "<img alt=\"@dpursehouse\" class=\"d-block avatar-user\" height=\"32\" src=\"https://avatars.githubusercontent.com/u/836426?s=64&amp;v=4\" width=\"32\"/>\n",
       "</a> </li>\n",
       "<li class=\"mb-2 mr-2\">\n",
       "<a class=\"\" data-hovercard-type=\"user\" data-hovercard-url=\"/users/kevinburke/hovercard\" data-octo-click=\"hovercard-link-click\" data-octo-dimensions=\"link_type:self\" href=\"/kevinburke\">\n",
       "<img alt=\"@kevinburke\" class=\"d-block avatar-user\" height=\"32\" src=\"https://avatars.githubusercontent.com/u/234019?s=64&amp;v=4\" width=\"32\"/>\n",
       "</a> </li>\n",
       "<li class=\"mb-2 mr-2\">\n",
       "<a class=\"\" data-hovercard-type=\"user\" data-hovercard-url=\"/users/jgorset/hovercard\" data-octo-click=\"hovercard-link-click\" data-octo-dimensions=\"link_type:self\" href=\"/jgorset\">\n",
       "<img alt=\"@jgorset\" class=\"d-block avatar-user\" height=\"32\" src=\"https://avatars.githubusercontent.com/u/195266?s=64&amp;v=4\" width=\"32\"/>\n",
       "</a> </li>\n",
       "<li class=\"mb-2 mr-2\">\n",
       "<a class=\"\" data-hovercard-type=\"user\" data-hovercard-url=\"/users/daftshady/hovercard\" data-octo-click=\"hovercard-link-click\" data-octo-dimensions=\"link_type:self\" href=\"/daftshady\">\n",
       "<img alt=\"@daftshady\" class=\"d-block avatar-user\" height=\"32\" src=\"https://avatars.githubusercontent.com/u/3482660?s=64&amp;v=4\" width=\"32\"/>\n",
       "</a> </li>\n",
       "<li class=\"mb-2 mr-2\">\n",
       "<a class=\"\" data-hovercard-type=\"user\" data-hovercard-url=\"/users/jerem/hovercard\" data-octo-click=\"hovercard-link-click\" data-octo-dimensions=\"link_type:self\" href=\"/jerem\">\n",
       "<img alt=\"@jerem\" class=\"d-block avatar-user\" height=\"32\" src=\"https://avatars.githubusercontent.com/u/36156?s=64&amp;v=4\" width=\"32\"/>\n",
       "</a> </li>\n",
       "</ul>\n",
       "<div class=\"mt-3\" data-view-component=\"true\">\n",
       "<a class=\"text-small\" data-view-component=\"true\" href=\"/psf/requests/graphs/contributors\">\n",
       "      + 599 contributors\n",
       "</a></div>\n",
       "</div>\n",
       "</div>\n",
       "<div class=\"BorderGrid-row\">\n",
       "<div class=\"BorderGrid-cell\">\n",
       "<h2 class=\"h4 mb-3\">Languages</h2>\n",
       "<div class=\"mb-2\">\n",
       "<span class=\"Progress\" data-view-component=\"true\">\n",
       "<span aria-label=\"Python 99.7\" class=\"Progress-item\" data-view-component=\"true\" itemprop=\"keywords\" style=\"background-color: #3572A5;width: 99.7%;\"></span>\n",
       "<span aria-label=\"Makefile 0.3\" class=\"Progress-item\" data-view-component=\"true\" itemprop=\"keywords\" style=\"background-color: #427819;width: 0.3%;\"></span>\n",
       "</span></div>\n",
       "<ul class=\"list-style-none\">\n",
       "<li class=\"d-inline\">\n",
       "<a class=\"d-inline-flex flex-items-center flex-nowrap Link--secondary no-underline text-small mr-3\" data-ga-click=\"Repository, language stats search click, location:repo overview\" href=\"/psf/requests/search?l=python\">\n",
       "<svg aria-hidden=\"true\" class=\"octicon octicon-dot-fill mr-2\" height=\"16\" style=\"color:#3572A5;\" version=\"1.1\" viewbox=\"0 0 16 16\" width=\"16\"><path d=\"M8 4a4 4 0 100 8 4 4 0 000-8z\" fill-rule=\"evenodd\"></path></svg>\n",
       "<span class=\"color-text-primary text-bold mr-1\">Python</span>\n",
       "<span>99.7%</span>\n",
       "</a>\n",
       "</li>\n",
       "<li class=\"d-inline\">\n",
       "<a class=\"d-inline-flex flex-items-center flex-nowrap Link--secondary no-underline text-small mr-3\" data-ga-click=\"Repository, language stats search click, location:repo overview\" href=\"/psf/requests/search?l=makefile\">\n",
       "<svg aria-hidden=\"true\" class=\"octicon octicon-dot-fill mr-2\" height=\"16\" style=\"color:#427819;\" version=\"1.1\" viewbox=\"0 0 16 16\" width=\"16\"><path d=\"M8 4a4 4 0 100 8 4 4 0 000-8z\" fill-rule=\"evenodd\"></path></svg>\n",
       "<span class=\"color-text-primary text-bold mr-1\">Makefile</span>\n",
       "<span>0.3%</span>\n",
       "</a>\n",
       "</li>\n",
       "</ul>\n",
       "</div>\n",
       "</div>\n",
       "</div>\n",
       "</div>\n",
       "</div></div>\n",
       "</div>\n",
       "</div>\n",
       "</main>\n",
       "</div>\n",
       "</div>\n",
       "<div class=\"footer container-xl width-full p-responsive\" role=\"contentinfo\">\n",
       "<div class=\"position-relative d-flex flex-row-reverse flex-lg-row flex-wrap flex-lg-nowrap flex-justify-center flex-lg-justify-between pt-6 pb-2 mt-6 f6 color-text-secondary border-top color-border-secondary\">\n",
       "<ul class=\"list-style-none d-flex flex-wrap col-12 col-lg-5 flex-justify-center flex-lg-justify-between mb-2 mb-lg-0\">\n",
       "<li class=\"mr-3 mr-lg-0\">© 2021 GitHub, Inc.</li>\n",
       "<li class=\"mr-3 mr-lg-0\"><a data-ga-click=\"Footer, go to terms, text:terms\" href=\"https://docs.github.com/en/github/site-policy/github-terms-of-service\">Terms</a></li>\n",
       "<li class=\"mr-3 mr-lg-0\"><a data-ga-click=\"Footer, go to privacy, text:privacy\" href=\"https://docs.github.com/en/github/site-policy/github-privacy-statement\">Privacy</a></li>\n",
       "<li class=\"mr-3 mr-lg-0\"><a data-ga-click=\"Footer, go to security, text:security\" href=\"https://github.com/security\">Security</a></li>\n",
       "<li class=\"mr-3 mr-lg-0\"><a data-ga-click=\"Footer, go to status, text:status\" href=\"https://www.githubstatus.com/\">Status</a></li>\n",
       "<li><a data-ga-click=\"Footer, go to help, text:Docs\" href=\"https://docs.github.com\">Docs</a></li>\n",
       "</ul>\n",
       "<a aria-label=\"Homepage\" class=\"footer-octicon d-none d-lg-block mx-lg-4\" href=\"https://github.com\" title=\"GitHub\">\n",
       "<svg aria-hidden=\"true\" class=\"octicon octicon-mark-github\" data-view-component=\"true\" height=\"24\" version=\"1.1\" viewbox=\"0 0 16 16\" width=\"24\">\n",
       "<path d=\"M8 0C3.58 0 0 3.58 0 8c0 3.54 2.29 6.53 5.47 7.59.4.07.55-.17.55-.38 0-.19-.01-.82-.01-1.49-2.01.37-2.53-.49-2.69-.94-.09-.23-.48-.94-.82-1.13-.28-.15-.68-.52-.01-.53.63-.01 1.08.58 1.23.82.72 1.21 1.87.87 2.33.66.07-.52.28-.87.51-1.07-1.78-.2-3.64-.89-3.64-3.95 0-.87.31-1.59.82-2.15-.08-.2-.36-1.02.08-2.12 0 0 .67-.21 2.2.82.64-.18 1.32-.27 2-.27.68 0 1.36.09 2 .27 1.53-1.04 2.2-.82 2.2-.82.44 1.1.16 1.92.08 2.12.51.56.82 1.27.82 2.15 0 3.07-1.87 3.75-3.65 3.95.29.25.54.73.54 1.48 0 1.07-.01 1.93-.01 2.2 0 .21.15.46.55.38A8.013 8.013 0 0016 8c0-4.42-3.58-8-8-8z\" fill-rule=\"evenodd\"></path>\n",
       "</svg>\n",
       "</a>\n",
       "<ul class=\"list-style-none d-flex flex-wrap col-12 col-lg-5 flex-justify-center flex-lg-justify-between mb-2 mb-lg-0\">\n",
       "<li class=\"mr-3 mr-lg-0\"><a data-ga-click=\"Footer, go to contact, text:contact\" href=\"https://support.github.com\">Contact GitHub</a></li>\n",
       "<li class=\"mr-3 mr-lg-0\"><a data-ga-click=\"Footer, go to Pricing, text:Pricing\" href=\"https://github.com/pricing\">Pricing</a></li>\n",
       "<li class=\"mr-3 mr-lg-0\"><a data-ga-click=\"Footer, go to api, text:api\" href=\"https://docs.github.com\">API</a></li>\n",
       "<li class=\"mr-3 mr-lg-0\"><a data-ga-click=\"Footer, go to training, text:training\" href=\"https://services.github.com\">Training</a></li>\n",
       "<li class=\"mr-3 mr-lg-0\"><a data-ga-click=\"Footer, go to blog, text:blog\" href=\"https://github.blog\">Blog</a></li>\n",
       "<li><a data-ga-click=\"Footer, go to about, text:about\" href=\"https://github.com/about\">About</a></li>\n",
       "</ul>\n",
       "</div>\n",
       "<div class=\"d-flex flex-justify-center pb-6\">\n",
       "<span class=\"f6 color-text-tertiary\"></span>\n",
       "</div>\n",
       "</div>\n",
       "<div class=\"ajax-error-message flash flash-error\" hidden=\"\" id=\"ajax-error-message\">\n",
       "<svg aria-hidden=\"true\" class=\"octicon octicon-alert\" data-view-component=\"true\" height=\"16\" version=\"1.1\" viewbox=\"0 0 16 16\" width=\"16\">\n",
       "<path d=\"M8.22 1.754a.25.25 0 00-.44 0L1.698 13.132a.25.25 0 00.22.368h12.164a.25.25 0 00.22-.368L8.22 1.754zm-1.763-.707c.659-1.234 2.427-1.234 3.086 0l6.082 11.378A1.75 1.75 0 0114.082 15H1.918a1.75 1.75 0 01-1.543-2.575L6.457 1.047zM9 11a1 1 0 11-2 0 1 1 0 012 0zm-.25-5.25a.75.75 0 00-1.5 0v2.5a.75.75 0 001.5 0v-2.5z\" fill-rule=\"evenodd\"></path>\n",
       "</svg>\n",
       "<button aria-label=\"Dismiss error\" class=\"flash-close js-ajax-error-dismiss\" type=\"button\">\n",
       "<svg aria-hidden=\"true\" class=\"octicon octicon-x\" data-view-component=\"true\" height=\"16\" version=\"1.1\" viewbox=\"0 0 16 16\" width=\"16\">\n",
       "<path d=\"M3.72 3.72a.75.75 0 011.06 0L8 6.94l3.22-3.22a.75.75 0 111.06 1.06L9.06 8l3.22 3.22a.75.75 0 11-1.06 1.06L8 9.06l-3.22 3.22a.75.75 0 01-1.06-1.06L6.94 8 3.72 4.78a.75.75 0 010-1.06z\" fill-rule=\"evenodd\"></path>\n",
       "</svg>\n",
       "</button>\n",
       "    You can’t perform that action at this time.\n",
       "  </div>\n",
       "<div class=\"js-stale-session-flash flash flash-warn flash-banner\" hidden=\"\">\n",
       "<svg aria-hidden=\"true\" class=\"octicon octicon-alert\" data-view-component=\"true\" height=\"16\" version=\"1.1\" viewbox=\"0 0 16 16\" width=\"16\">\n",
       "<path d=\"M8.22 1.754a.25.25 0 00-.44 0L1.698 13.132a.25.25 0 00.22.368h12.164a.25.25 0 00.22-.368L8.22 1.754zm-1.763-.707c.659-1.234 2.427-1.234 3.086 0l6.082 11.378A1.75 1.75 0 0114.082 15H1.918a1.75 1.75 0 01-1.543-2.575L6.457 1.047zM9 11a1 1 0 11-2 0 1 1 0 012 0zm-.25-5.25a.75.75 0 00-1.5 0v2.5a.75.75 0 001.5 0v-2.5z\" fill-rule=\"evenodd\"></path>\n",
       "</svg>\n",
       "<span class=\"js-stale-session-flash-signed-in\" hidden=\"\">You signed in with another tab or window. <a href=\"\">Reload</a> to refresh your session.</span>\n",
       "<span class=\"js-stale-session-flash-signed-out\" hidden=\"\">You signed out in another tab or window. <a href=\"\">Reload</a> to refresh your session.</span>\n",
       "</div>\n",
       "<template id=\"site-details-dialog\">\n",
       "<details class=\"details-reset details-overlay details-overlay-dark lh-default color-text-primary hx_rsm\" open=\"\">\n",
       "<summary aria-label=\"Close dialog\" role=\"button\"></summary>\n",
       "<details-dialog class=\"Box Box--overlay d-flex flex-column anim-fade-in fast hx_rsm-dialog hx_rsm-modal\">\n",
       "<button aria-label=\"Close dialog\" class=\"Box-btn-octicon m-0 btn-octicon position-absolute right-0 top-0\" data-close-dialog=\"\" type=\"button\">\n",
       "<svg aria-hidden=\"true\" class=\"octicon octicon-x\" data-view-component=\"true\" height=\"16\" version=\"1.1\" viewbox=\"0 0 16 16\" width=\"16\">\n",
       "<path d=\"M3.72 3.72a.75.75 0 011.06 0L8 6.94l3.22-3.22a.75.75 0 111.06 1.06L9.06 8l3.22 3.22a.75.75 0 11-1.06 1.06L8 9.06l-3.22 3.22a.75.75 0 01-1.06-1.06L6.94 8 3.72 4.78a.75.75 0 010-1.06z\" fill-rule=\"evenodd\"></path>\n",
       "</svg>\n",
       "</button>\n",
       "<div class=\"octocat-spinner my-6 js-details-dialog-spinner\"></div>\n",
       "</details-dialog>\n",
       "</details>\n",
       "</template>\n",
       "<div class=\"Popover js-hovercard-content position-absolute\" style=\"display: none; outline: none;\" tabindex=\"0\">\n",
       "<div class=\"Popover-message Popover-message--bottom-left Popover-message--large Box color-shadow-large\" style=\"width:360px;\">\n",
       "</div>\n",
       "</div>\n",
       "<template id=\"snippet-clipboard-copy-button\">\n",
       "<div class=\"zeroclipboard-container position-absolute right-0 top-0\">\n",
       "<clipboard-copy aria-label=\"Copy\" class=\"ClipboardButton btn js-clipboard-copy m-2 p-0 tooltipped-no-delay\" data-copy-feedback=\"Copied!\" data-tooltip-direction=\"w\">\n",
       "<svg aria-hidden=\"true\" class=\"octicon octicon-clippy js-clipboard-clippy-icon m-2\" data-view-component=\"true\" height=\"16\" version=\"1.1\" viewbox=\"0 0 16 16\" width=\"16\">\n",
       "<path d=\"M5.75 1a.75.75 0 00-.75.75v3c0 .414.336.75.75.75h4.5a.75.75 0 00.75-.75v-3a.75.75 0 00-.75-.75h-4.5zm.75 3V2.5h3V4h-3zm-2.874-.467a.75.75 0 00-.752-1.298A1.75 1.75 0 002 3.75v9.5c0 .966.784 1.75 1.75 1.75h8.5A1.75 1.75 0 0014 13.25v-9.5a1.75 1.75 0 00-.874-1.515.75.75 0 10-.752 1.298.25.25 0 01.126.217v9.5a.25.25 0 01-.25.25h-8.5a.25.25 0 01-.25-.25v-9.5a.25.25 0 01.126-.217z\" fill-rule=\"evenodd\"></path>\n",
       "</svg>\n",
       "<svg aria-hidden=\"true\" class=\"octicon octicon-check js-clipboard-check-icon color-text-success d-none m-2\" data-view-component=\"true\" height=\"16\" version=\"1.1\" viewbox=\"0 0 16 16\" width=\"16\">\n",
       "<path d=\"M13.78 4.22a.75.75 0 010 1.06l-7.25 7.25a.75.75 0 01-1.06 0L2.22 9.28a.75.75 0 011.06-1.06L6 10.94l6.72-6.72a.75.75 0 011.06 0z\" fill-rule=\"evenodd\"></path>\n",
       "</svg>\n",
       "</clipboard-copy>\n",
       "</div>\n",
       "</template>\n",
       "</body>\n",
       "</html>"
      ]
     },
     "metadata": {},
     "execution_count": 20
    }
   ],
   "source": [
    "data"
   ]
  },
  {
   "cell_type": "code",
   "execution_count": 23,
   "metadata": {},
   "outputs": [
    {
     "output_type": "execute_result",
     "data": {
      "text/plain": [
       "VMfWiqeVHdayDHpNRlG5HsF+cgV+pFnMDoTJuvBzgw+ndsepe4NcKAxIS3WMvzMaQcYmd2vrIaoAJVg==\" type=\"application/javascript\"></script>\n",
       "<script crossorigin=\"anonymous\" data-module-id=\"./chunk-emoji-picker-element.js\" data-src=\"https://github.githubassets.com/assets/chunk-emoji-picker-element-6a2a8c20.js\" defer=\"defer\" integrity=\"sha512-aiqMIGGZGo8AQMjcoImKPMTsZVVRl6htCSY7BpRmpGPG/AF+Wq+P/Oj/dthWQOIk9cCNMPEas7O2zAR6oqn0tA==\" type=\"application/javascript\"></script>\n",
       "<script crossorigin=\"anonymous\" data-module-id=\"./chunk-filter-input.js\" data-src=\"https://github.githubassets.com/assets/chunk-filter-input-7a3093f6.js\" defer=\"defer\" integrity=\"sha512-ejCT9r9E93nir+wK3PibZdMK0J3VXEkbwlgdnOnaUNoiJDI60BMtFt1QwjMU/rLXcjnH0xvgVFINGBFkzvTmRw==\" type=\"application/javascript\"></script>\n",
       "<script crossorigin=\"anonymous\" data-module-id=\"./chunk-insights-graph.js\" data-src=\"https://github.githubassets.com/assets/chunk-insights-graph-675c1cc8.js\" defer=\"defer\" integrity=\"sha512-Z1wcyOFQHzyMSPqp5DLKrobr3DN2Q6Dz31cfPtw4b2vPs9PX0PrxyDXHpTbIlcZ9qT1M1BNAypHKKw8Lp6Yx/Q==\" type=\"application/javascript\"></script>\n",
       "<script crossorigin=\"anonymous\" data-module-id=\"./chunk-invitations.js\" data-src=\"https://github.githubassets.com/assets/chunk-invitations-e22448f7.js\" defer=\"defer\" integrity=\"sha512-4iRI95LO0kKcZLWUoOzqI6w8IVGppDVluR4dL7yyz8zgBu/7JAib0MkRN5LUVxXv0KIT6mQ2m5jbKa1NeZoD5A==\" type=\"application/javascript\"></script>\n",
       "<script crossorigin=\"anonymous\" data-module-id=\"./chunk-jump-to.js\" data-src=\"https://github.githubassets.com/assets/chunk-jump-to-0e19f43f.js\" defer=\"defer\" integrity=\"sha512-Dhn0P9aANkDPzMxpqETLGel8ELkO93wrLFrMnEOSg8DguOxR7UNY1MyL3lexSVWo/ZZvme3kcWTaM6gw/DJW1w==\" type=\"application/javascript\"></script>\n",
       "<script crossorigin=\"anonymous\" data-module-id=\"./chunk-launch-code-element.js\" data-src=\"https://github.githubassets.com/assets/chunk-launch-code-element-d034991e.js\" defer=\"defer\" integrity=\"sha512-0DSZHh/iD27pAOXl4AWcxPqgRsJAVr1M8SnaN4gKYH2ZplPywvL5oalqN4Qj03FsB5Ll0pytD5kiTMibgGq0BA==\" type=\"application/javascript\"></script>\n",
       "<script crossorigin=\"anonymous\" data-module-id=\"./chunk-metric-selection-element.js\" data-src=\"https://github.githubassets.com/assets/chunk-metric-selection-element-45db9a2c.js\" defer=\"defer\" integrity=\"sha512-RduaLAviB2ygvRK/eX5iwzYO43ie7svrJ0rYJs06x7XqpRl/IK8PPBscBWM9Moo5Z86DK2iRLE2+aR7TJ5Uc2Q==\" type=\"application/javascript\"></script>\n",
       "<script crossorigin=\"anonymous\" data-module-id=\"./chunk-notification-list-focus.js\" data-src=\"https://github.githubassets.com/assets/chunk-notification-list-focus-2e8d23d6.js\" defer=\"defer\" integrity=\"sha512-Lo0j1owPfYM0txt85KwGzF1PQJLvLFGbRJoASd5ZKMQAV9ZSDg5bVm5UWBAz7glGzw1pkiUD2bCMs2wqyf+CEA==\" type=\"application/javascript\"></script>\n",
       "<script crossorigin=\"anonymous\" data-module-id=\"./chunk-profile-pins-element.js\" data-src=\"https://github.githubassets.com/assets/chunk-profile-pins-element-99ad0e3b.js\" defer=\"defer\" integrity=\"sha512-ma0OOy3nj0c1cqBx0BkcmIFsLqcSZ+MIukQxyEFM/OWTzZpG+QMgOoWPAHZz43M6fyjAUG1jH6c/6LPiiKPCyw==\" type=\"application/javascript\"></script>\n",
       "<script crossorigin=\"anonymous\" data-module-id=\"./chunk-readme-toc-element.js\" data-src=\"https://github.githubassets.com/assets/chunk-readme-toc-element-fe43cbcd.js\" defer=\"defer\" integrity=\"sha512-/kPLzWIe41nxla5A+wcKKPIw4xiAsuITdjbXGVCycmUYnADfCids8FdV+TCA68gr4jAhKIws7flLpL12MoouBA==\" type=\"application/javascript\"></script>\n",
       "<script crossorigin=\"anonymous\" data-module-id=\"./chunk-ref-selector.js\" data-src=\"https://github.githubassets.com/assets/chunk-ref-selector-17413603.js\" defer=\"defer\" integrity=\"sha512-F0E2A5YYSz+7eA/RyQ/vYtJzeK2sjNyyneVBqru/CPoRXGBiAcJ2tpN2MWLxkNCqirt88h/BMCAF/7YTZ2qZJA==\" type=\"application/javascript\"></script>\n",
       "<script crossorigin=\"anonymous\" data-module-id=\"./chunk-responsive-underlinenav.js\" data-src=\"https://github.githubassets.com/assets/chunk-responsive-underlinenav-6628bda1.js\" defer=\"defer\" integrity=\"sha512-Zii9oRdZ6q2QDNjL5A+me7jwJjMLvs1NiQNHmajUZnn4t9shcBDb4F8l/PQZW26eYfe5065oM7lIOSmbMinA7Q==\" type=\"application/javascript\"></script>\n",
       "<script crossorigin=\"anonymous\" data-module-id=\"./chunk-runner-groups.js\" data-src=\"https://github.githubassets.com/assets/chunk-runner-groups-51478e7f.js\" defer=\"defer\" integrity=\"sha512-UUeOf6fdSNCh5PEil2eqo9JMci+9FbJ2YdzZ1rE8fFMYtanaPRRJSidxpPbnl16jxAuQo0QzosPRMKbiFuN0sQ==\" type=\"application/javascript\"></script>\n",
       "<script crossorigin=\"anonymous\" data-module-id=\"./chunk-severity-calculator-element.js\" data-src=\"https://github.githubassets.com/assets/chunk-severity-calculator-element-b64efa7a.js\" defer=\"defer\" integrity=\"sha512-tk76eoSLUqXSVZ8ANzPprrOImFIV1zQ/VBV+WzG8ZjZpVPH8cLkMH/ur5HJB1lxx9/yo+V2wjDF96t4qfUwZLA==\" type=\"application/javascript\"></script>\n",
       "<script crossorigin=\"anonymous\" data-module-id=\"./chunk-sortable-behavior.js\" data-src=\"https://github.githubassets.com/assets/chunk-sortable-behavior-7c8abd32.js\" defer=\"defer\" integrity=\"sha512-fIq9Mn7jY/bHQXnsmh+VejpDnaO+d/FDxsp+4CuZtdNLrLuO+dQCjh+m6Yd8GCYD2Cy6DWbCEyM+mH2dkB2H9A==\" type=\"application/javascript\"></script>\n",
       "<script crossorigin=\"anonymous\" data-module-id=\"./chunk-toast.js\" data-src=\"https://github.githubassets.com/assets/chunk-toast-58af155f.js\" defer=\"defer\" integrity=\"sha512-WK8VXw3lfUQ/VRW0zlgKPhcMUqH0uTnB/KzePUPdZhCm/HpxfXXHKTGvj5C0Oex7+zbIM2ECzULbtTCT4ug3yg==\" type=\"application/javascript\"></script>\n",
       "<script crossorigin=\"anonymous\" data-module-id=\"./chunk-tweetsodium.js\" data-src=\"https://github.githubassets.com/assets/chunk-tweetsodium-be01c912.js\" defer=\"defer\" integrity=\"sha512-vgHJEmEJxNmHucGbVY8bEUoOYo5/ZwpQ69rU8Dld89daWJ54uad9lNptxq32F8pnbHhdngw9lohNEbMbjmj5AQ==\" type=\"application/javascript\"></script>\n",
       "<script crossorigin=\"anonymous\" data-module-id=\"./chunk-user-status-submit.js\" data-src=\"https://github.githubassets.com/assets/chunk-user-status-submit-6be3ebf6.js\" defer=\"defer\" integrity=\"sha512-a+Pr9qPUoA3j8O0EiWfWwxWH4ZiB1fweLkYrjYlvyy/SeJbcjR1B4UyYjypFb9kvoy7I2bwXU9ctjZInmlyBXg==\" type=\"application/javascript\"></script>\n",
       "<script crossorigin=\"anonymous\" defer=\"defer\" integrity=\"sha512-Ptso2+l0qc5TsMWm7O5koNPgd1k5a5LYe/EW2a2aMCgxay0eZaMfWcCCVvgXpLiQd3EfDcC/tlxFw4jkHml3RQ==\" src=\"https://github.githubassets.com/assets/codespaces-3edb28db.js\" type=\"application/javascript\"></script>\n",
       "<script crossorigin=\"anonymous\" defer=\"defer\" integrity=\"sha512-bS6dQhaUfxb3rXSLuEN+7HlkA3TzzfxqBkaSQaoSZLzje7r3H26uID+7rfjxpW10uj91kGL1n6uCh3JXO4+t5g==\" src=\"https://github.githubassets.com/assets/repositories-6d2e9d42.js\" type=\"application/javascript\"></script>\n",
       "<script crossorigin=\"anonymous\" defer=\"defer\" integrity=\"sha512-VdDnT4MPoFuFNTXGAwYJA7c5Doy8ZNOhM9PaJ0gPsIvXjFpHu9bqjLP6BLa/iRaLY4BXvoo1lQBlQi80vb3WzQ==\" src=\"https://github.githubassets.com/assets/topic-suggestions-55d0e74f.js\" type=\"application/javascript\"></script>\n",
       "<meta content=\"width=device-width\" name=\"viewport\"/>\n",
       "<title>GitHub - psf/requests: A simple, yet elegant HTTP library.</title>\n",
       "<meta content=\"A simple, yet elegant HTTP library. Contribute to psf/requests development by creating an account on GitHub.\" name=\"description\"/>\n",
       "<link href=\"/opensearch.xml\" rel=\"search\" title=\"GitHub\" type=\"application/opensearchdescription+xml\"/>\n",
       "<link href=\"https://github.com/fluidicon.png\" rel=\"fluid-icon\" title=\"GitHub\"/>\n",
       "<meta content=\"1401488693436528\" property=\"fb:app_id\"/>\n",
       "<meta content=\"app-id=1477376905\" name=\"apple-itunes-app\">\n",
       "<meta content=\"https://opengraph.githubassets.com/1e3cd4e74b5190a574511346d133e7fe731d4618b25b52df663422cda7cef0f3/psf/requests\" name=\"twitter:image:src\"><meta content=\"@github\" name=\"twitter:site\"><meta content=\"summary_large_image\" name=\"twitter:card\"><meta content=\"psf/requests\" name=\"twitter:title\"/><meta content=\"A simple, yet elegant HTTP library. Contribute to psf/requests development by creating an account on GitHub.\" name=\"twitter:description\"/>\n",
       "<meta content=\"https://opengraph.githubassets.com/1e3cd4e74b5190a574511346d133e7fe731d4618b25b52df663422cda7cef0f3/psf/requests\" property=\"og:image\"/><meta content=\"A simple, yet elegant HTTP library. Contribute to psf/requests development by creating an account on GitHub.\" property=\"og:image:alt\"/><meta content=\"1200\" property=\"og:image:width\"/><meta content=\"600\" property=\"og:image:height\"/><meta content=\"GitHub\" property=\"og:site_name\"/><meta content=\"object\" property=\"og:type\"/><meta content=\"psf/requests\" property=\"og:title\"/><meta content=\"https://github.com/psf/requests\" property=\"og:url\"/><meta content=\"A simple, yet elegant HTTP library. Contribute to psf/requests development by creating an account on GitHub.\" property=\"og:description\"/>\n",
       "<link href=\"https://github.githubassets.com/\" rel=\"assets\"/>\n",
       "<meta content=\"FAD4:3F91:14D4F6:15DD16:60C1D4E4\" data-pjax-transient=\"true\" name=\"request-id\"/><meta content=\"092178ad738d49a389c1a169a8c204f4236f5f32d91c8de8618ab16800726d65\" data-pjax-transient=\"true\" name=\"html-safe-nonce\"/><meta content=\"eyJyZWZlcnJlciI6IiIsInJlcXVlc3RfaWQiOiJGQUQ0OjNGOTE6MTRENEY2OjE1REQxNjo2MEMxRDRFNCIsInZpc2l0b3JfaWQiOiI1NDcyNDU2ODA1NDM3MjY1MTI0IiwicmVnaW9uX2VkZ2UiOiJhcC1zb3V0aC0xIiwicmVnaW9uX3JlbmRlciI6ImFwLXNvdXRoLTEifQ==\" data-pjax-transient=\"true\" name=\"visitor-payload\"/><meta content=\"7423fe8aecae7b162472c26671f17d39a92839e4cb9e987083986d50e3959d0c\" data-pjax-transient=\"true\" name=\"visitor-hmac\"/>\n",
       "<meta content=\"repository:1362490\" data-pjax-transient=\"\" name=\"hovercard-subject-tag\"/>\n",
       "<meta content=\"repository\" data-pjax-transient=\"true\" name=\"github-keyboard-shortcuts\">\n",
       "<meta data-pjax-transient=\"\" name=\"selected-link\" value=\"repo_source\"/>\n",
       "<meta content=\"c1kuD-K2HIVF635lypcsWPoD4kilo5-jA_wBFyT4uMY\" name=\"google-site-verification\"/>\n",
       "<meta content=\"KT5gs8h0wvaagLKAVWq8bbeNwnZZK1r1XQysX3xurLU\" name=\"google-site-verification\"/>\n",
       "<meta content=\"ZzhVyEFwb7w3e0-uOTltm8Jsck2F5StVihD0exw2fsA\" name=\"google-site-verification\"/>\n",
       "<meta content=\"GXs5KoUUkNCoaAZn7wPN-t01Pywp9M3sEjnt_3_ZWPc\" name=\"google-site-verification\"/>\n",
       "<meta content=\"collector.githubapp.com\" name=\"octolytics-host\"><meta content=\"github\" name=\"octolytics-app-id\"><meta content=\"https://collector.githubapp.com/github-external/browser_event\" name=\"octolytics-event-url\">\n",
       "<meta content=\"/&lt;user-name&gt;/&lt;repo-name&gt;\" data-pjax-transient=\"true\" name=\"analytics-location\">\n",
       "<meta content='{\"version\": \"4\", \"rollouts\": [], \"typedAudiences\": [], \"anonymizeIP\": true, \"projectId\": \"16737760170\", \"variables\": [], \"featureFlags\": [], \"experiments\": [{\"status\": \"Running\", \"audienceIds\": [], \"variations\": [{\"variables\": [], \"id\": \"20106410318\", \"key\": \"en\"}, {\"variables\": [], \"id\": \"20122000362\", \"key\": \"ko\"}], \"id\": \"20121990335\", \"key\": \"ko_homepage_translation\", \"layerId\": \"20100420349\", \"trafficAllocation\": [{\"entityId\": \"20106410318\", \"endOfRange\": 5000}, {\"entityId\": \"20122000362\", \"endOfRange\": 10000}], \"forcedVariations\": {}}, {\"status\": \"Running\", \"audienceIds\": [], \"variations\": [{\"variables\": [], \"id\": \"20227754799\", \"key\": \"control\"}, {\"variables\": [], \"id\": \"20233267869\", \"key\": \"treatment\"}], \"id\": \"20194668672\", \"key\": \"recommended_plan_in_signup\", \"layerId\": \"20231804245\", \"trafficAllocation\": [{\"entityId\": \"20233267869\", \"endOfRange\": 2500}, {\"entityId\": \"\", \"endOfRange\": 5000}, {\"entityId\": \"20227754799\", \"endOfRange\": 7500}, {\"entityId\": \"\", \"endOfRange\": 10000}], \"forcedVariations\": {\"d0c8cbf56b61c99517936207d280de0c\": \"treatment\"}}, {\"status\": \"Running\", \"audienceIds\": [], \"variations\": [{\"variables\": [], \"id\": \"20233300304\", \"key\": \"launch_code_variation\"}, {\"variables\": [], \"id\": \"20227370325\", \"key\": \"control\"}], \"id\": \"20206000276\", \"key\": \"launch_code_verification\", \"layerId\": \"20233240262\", \"trafficAllocation\": [{\"entityId\": \"20233300304\", \"endOfRange\": 5000}, {\"entityId\": \"20233300304\", \"endOfRange\": 10000}], \"forcedVariations\": {}}], \"audiences\": [{\"conditions\": \"[\\\"or\\\", {\\\"match\\\": \\\"exact\\\", \\\"name\\\": \\\"$opt_dummy_attribute\\\", \\\"type\\\": \\\"custom_attribute\\\", \\\"value\\\": \\\"$opt_dummy_value\\\"}]\", \"id\": \"$opt_dummy_audience\", \"name\": \"Optimizely-Generated Audience for Backwards Compatibility\"}], \"groups\": [], \"attributes\": [{\"id\": \"16822470375\", \"key\": \"user_id\"}, {\"id\": \"17143601254\", \"key\": \"spammy\"}, {\"id\": \"18175660309\", \"key\": \"organization_plan\"}, {\"id\": \"18813001570\", \"key\": \"is_logged_in\"}, {\"id\": \"19073851829\", \"key\": \"geo\"}, {\"id\": \"20175462351\", \"key\": \"requestedCurrency\"}], \"botFiltering\": false, \"accountId\": \"16737760170\", \"events\": [{\"experimentIds\": [], \"id\": \"17911811441\", \"key\": \"hydro_click.dashboard.teacher_toolbox_cta\"}, {\"experimentIds\": [], \"id\": \"18124116703\", \"key\": \"submit.organizations.complete_sign_up\"}, {\"experimentIds\": [], \"id\": \"18145892387\", \"key\": \"no_metric.tracked_outside_of_optimizely\"}, {\"experimentIds\": [], \"id\": \"18178755568\", \"key\": \"click.org_onboarding_checklist.add_repo\"}, {\"experimentIds\": [], \"id\": \"18180553241\", \"key\": \"submit.repository_imports.create\"}, {\"experimentIds\": [], \"id\": \"18186103728\", \"key\": \"click.help.learn_more_about_repository_creation\"}, {\"experimentIds\": [], \"id\": \"18188530140\", \"key\": \"test_event.do_not_use_in_production\"}, {\"experimentIds\": [], \"id\": \"18191963644\", \"key\": \"click.empty_org_repo_cta.transfer_repository\"}, {\"experimentIds\": [], \"id\": \"18195612788\", \"key\": \"click.empty_org_repo_cta.import_repository\"}, {\"experimentIds\": [], \"id\": \"18210945499\", \"key\": \"click.org_onboarding_checklist.invite_members\"}, {\"experimentIds\": [], \"id\": \"18211063248\", \"key\": \"click.empty_org_repo_cta.create_repository\"}, {\"experimentIds\": [], \"id\": \"18215721889\", \"key\": \"click.org_onboarding_checklist.update_profile\"}, {\"experimentIds\": [], \"id\": \"18224360785\", \"key\": \"click.org_onboarding_checklist.dismiss\"}, {\"experimentIds\": [], \"id\": \"18234832286\", \"key\": \"submit.organization_activation.complete\"}, {\"experimentIds\": [], \"id\": \"18252392383\", \"key\": \"submit.org_repository.create\"}, {\"experimentIds\": [], \"id\": \"18257551537\", \"key\": \"submit.org_member_invitation.create\"}, {\"experimentIds\": [], \"id\": \"18259522260\", \"key\": \"submit.organization_profile.update\"}, {\"experimentIds\": [], \"id\": \"18564603625\", \"key\": \"view.classroom_select_organization\"}, {\"experimentIds\": [], \"id\": \"18568612016\", \"key\": \"click.classroom_sign_in_click\"}, {\"experimentIds\": [], \"id\": \"18572592540\", \"key\": \"view.classroom_name\"}, {\"experimentIds\": [], \"id\": \"18574203855\", \"key\": \"click.classroom_create_organization\"}, {\"experimentIds\": [], \"id\": \"18582053415\", \"key\": \"click.classroom_select_organization\"}, {\"experimentIds\": [], \"id\": \"18589463420\", \"key\": \"click.classroom_create_classroom\"}, {\"experimentIds\": [], \"id\": \"18591323364\", \"key\": \"click.classroom_create_first_classroom\"}, {\"experimentIds\": [], \"id\": \"18591652321\", \"key\": \"click.classroom_grant_access\"}, {\"experimentIds\": [], \"id\": \"18607131425\", \"key\": \"view.classroom_creation\"}, {\"experimentIds\": [\"20194668672\"], \"id\": \"18831680583\", \"key\": \"upgrade_account_plan\"}, {\"experimentIds\": [], \"id\": \"19064064515\", \"key\": \"click.signup\"}, {\"experimentIds\": [], \"id\": \"19075373687\", \"key\": \"click.view_account_billing_page\"}, {\"experimentIds\": [], \"id\": \"19077355841\", \"key\": \"click.dismiss_signup_prompt\"}, {\"experimentIds\": [], \"id\": \"19079713938\", \"key\": \"click.contact_sales\"}, {\"experimentIds\": [], \"id\": \"19120963070\", \"key\": \"click.compare_account_plans\"}, {\"experimentIds\": [], \"id\": \"19151690317\", \"key\": \"click.upgrade_account_cta\"}, {\"experimentIds\": [], \"id\": \"19424193129\", \"key\": \"click.open_account_switcher\"}, {\"experimentIds\": [], \"id\": \"19520330825\", \"key\": \"click.visit_account_profile\"}, {\"experimentIds\": [], \"id\": \"19540970635\", \"key\": \"click.switch_account_context\"}, {\"experimentIds\": [\"20121990335\"], \"id\": \"19730198868\", \"key\": \"submit.homepage_signup\"}, {\"experimentIds\": [\"20121990335\"], \"id\": \"19820830627\", \"key\": \"click.homepage_signup\"}, {\"experimentIds\": [], \"id\": \"19988571001\", \"key\": \"click.create_enterprise_trial\"}, {\"experimentIds\": [], \"id\": \"20036538294\", \"key\": \"click.create_organization_team\"}, {\"experimentIds\": [], \"id\": \"20040653299\", \"key\": \"click.input_enterprise_trial_form\"}, {\"experimentIds\": [], \"id\": \"20062030003\", \"key\": \"click.continue_with_team\"}, {\"experimentIds\": [], \"id\": \"20068947153\", \"key\": \"click.create_organization_free\"}, {\"experimentIds\": [], \"id\": \"20086636658\", \"key\": \"click.signup_continue.username\"}, {\"experimentIds\": [], \"id\": \"20091648988\", \"key\": \"click.signup_continue.create_account\"}, {\"experimentIds\": [], \"id\": \"20103637615\", \"key\": \"click.signup_continue.email\"}, {\"experimentIds\": [], \"id\": \"20111574253\", \"key\": \"click.signup_continue.password\"}, {\"experimentIds\": [], \"id\": \"20120044111\", \"key\": \"view.pricing_page\"}, {\"experimentIds\": [\"20121990335\"], \"id\": \"20152062109\", \"key\": \"submit.create_account\"}, {\"experimentIds\": [], \"id\": \"20165800992\", \"key\": \"submit.upgrade_payment_form\"}, {\"experimentIds\": [], \"id\": \"20171520319\", \"key\": \"submit.create_organization\"}, {\"experimentIds\": [\"20194668672\"], \"id\": \"20222645674\", \"key\": \"click.recommended_plan_in_signup.discuss_your_needs\"}, {\"experimentIds\": [\"20206000276\"], \"id\": \"20227443657\", \"key\": \"submit.verify_primary_user_email\"}, {\"experimentIds\": [\"20194668672\"], \"id\": \"20234607160\", \"key\": \"click.recommended_plan_in_signup.try_enterprise\"}, {\"experimentIds\": [\"20194668672\"], \"id\": \"20238175784\", \"key\": \"click.recommended_plan_in_signup.team\"}, {\"experimentIds\": [\"20194668672\"], \"id\": \"20239847212\", \"key\": \"click.recommended_plan_in_signup.continue_free\"}, {\"experimentIds\": [\"20194668672\"], \"id\": \"20251097193\", \"key\": \"recommended_plan\"}], \"revision\": \"694\"}' name=\"optimizely-datafile\">\n",
       "<!-- To prevent page flashing, the optimizely JS needs to be loaded in the\n",
       "    <head> tag before the DOM renders -->\n",
       "<script crossorigin=\"anonymous\" defer=\"defer\" integrity=\"sha512-yDmmCGyENqEePvF9X9A4omxWCNcbS6qK2h8HZPdnvXd02Vzhtqd0zRd/pgTgqQ/xOA02F3H225VpJvDXrnfNbA==\" src=\"https://github.githubassets.com/assets/optimizely-c839a608.js\" type=\"application/javascript\"></script>\n",
       "<meta content=\"github.com\" name=\"hostname\"/>\n",
       "<meta content=\"\" name=\"user-login\"/>\n",
       "<meta content=\"github.com\" name=\"expected-hostname\"/>\n",
       "<meta content=\"MARKETPLACE_PENDING_INSTALLATIONS,NEW_ICONS_EXPERIMENT,AUTOCOMPLETE_EMOJIS_IN_MARKDOWN_EDITOR\" name=\"enabled-features\"/>\n",
       "<meta content=\"f2458f25dc1ea53a47635237c19b8e61cef8bb1a38b32fa6b26dc6fe471b28a6\" http-equiv=\"x-pjax-version\"/>\n",
       "<meta content=\"github.com/psf/requests git https://github.com/psf/requests.git\" name=\"go-import\"/>\n",
       "<meta content=\"50630501\" name=\"octolytics-dimension-user_id\"><meta content=\"psf\" name=\"octolytics-dimension-user_login\"><meta content=\"1362490\" name=\"octolytics-dimension-repository_id\"><meta content=\"psf/requests\" name=\"octolytics-dimension-repository_nwo\"><meta content=\"true\" name=\"octolytics-dimension-repository_public\"><meta content=\"false\" name=\"octolytics-dimension-repository_is_fork\"><meta content=\"1362490\" name=\"octolytics-dimension-repository_network_root_id\"/><meta content=\"psf/requests\" name=\"octolytics-dimension-repository_network_root_nwo\"/>\n",
       "<link data-pjax-transient=\"\" href=\"https://github.com/psf/requests\" rel=\"canonical\"/>\n",
       "<meta content=\"https://api.github.com/_private/browser/stats\" name=\"browser-stats-url\"/>\n",
       "<meta content=\"https://api.github.com/_private/browser/errors\" name=\"browser-errors-url\"/>\n",
       "<meta content=\"https://api.github.com/_private/browser/optimizely_client/errors\" name=\"browser-optimizely-client-errors-url\"/>\n",
       "<link color=\"#000000\" href=\"https://github.githubassets.com/pinned-octocat.svg\" rel=\"mask-icon\"/>\n",
       "<link class=\"js-site-favicon\" href=\"https://github.githubassets.com/favicons/favicon.png\" rel=\"alternate icon\" type=\"image/png\"/>\n",
       "<link class=\"js-site-favicon\" href=\"https://github.githubassets.com/favicons/favicon.svg\" rel=\"icon\" type=\"image/svg+xml\"/>\n",
       "<meta content=\"#1e2327\" name=\"theme-color\"/>\n",
       "<meta content=\"light dark\" name=\"color-scheme\">\n",
       "<link crossorigin=\"use-credentials\" href=\"/manifest.json\" rel=\"manifest\"/>\n",
       "<meta content=\"ko\" name=\"enabled-homepage-translation-languages\"/>\n",
       "</meta></meta></meta></meta></meta></meta></meta></meta></meta></meta></meta></meta></meta></meta></meta></meta></meta></link></link></link></head>"
      ]
     },
     "metadata": {},
     "execution_count": 23
    }
   ],
   "source": [
    "data.find('head')"
   ]
  },
  {
   "cell_type": "code",
   "execution_count": 24,
   "metadata": {},
   "outputs": [
    {
     "output_type": "execute_result",
     "data": {
      "text/plain": [
       "<title>GitHub - psf/requests: A simple, yet elegant HTTP library.</title>"
      ]
     },
     "metadata": {},
     "execution_count": 24
    }
   ],
   "source": [
    "data.find('title')"
   ]
  },
  {
   "cell_type": "code",
   "execution_count": 26,
   "metadata": {},
   "outputs": [
    {
     "output_type": "execute_result",
     "data": {
      "text/plain": [
       "<a class=\"px-2 py-4 color-bg-info-inverse color-text-white show-on-focus js-skip-to-content\" href=\"#start-of-content\">Skip to content</a>"
      ]
     },
     "metadata": {},
     "execution_count": 26
    }
   ],
   "source": [
    "data.find('a')                                                                             #first occured a tag"
   ]
  },
  {
   "cell_type": "code",
   "execution_count": 28,
   "metadata": {},
   "outputs": [
    {
     "output_type": "execute_result",
     "data": {
      "text/plain": [
       "06-1.06 3.5 3.5 0 00-4.95 0l-2.5 2.5a3.5 3.5 0 004.95 4.95l1.25-1.25a.75.75 0 00-1.06-1.06l-1.25 1.25a2 2 0 01-2.83 0z\" fill-rule=\"evenodd\"></path></svg></a>,\n",
       " <a href=\"https://github.com/psf/requests/network/dependents?package_id=UGFja2FnZS01NzA4OTExNg%3D%3D\">depended upon</a>,\n",
       " <a href=\"https://pepy.tech/project/requests/month\" rel=\"nofollow\"><img alt=\"Downloads\" data-canonical-src=\"https://pepy.tech/badge/requests/month\" src=\"https://camo.githubusercontent.com/d4f511b33402ca109f324ccbd2a1106288cbeec458cd8073730503441b2ab936/68747470733a2f2f706570792e746563682f62616467652f72657175657374732f6d6f6e7468\" style=\"max-width:100%;\"/></a>,\n",
       " <a href=\"https://pypi.org/project/requests\" rel=\"nofollow\"><img alt=\"Supported Versions\" data-canonical-src=\"https://img.shields.io/pypi/pyversions/requests.svg\" src=\"https://camo.githubusercontent.com/6749e2352acc2dd44be9bcf1cfede548894131b6798c76cedb647c5448df5433/68747470733a2f2f696d672e736869656c64732e696f2f707970692f707976657273696f6e732f72657175657374732e737667\" style=\"max-width:100%;\"/></a>,\n",
       " <a href=\"https://github.com/psf/requests/graphs/contributors\"><img alt=\"Contributors\" data-canonical-src=\"https://img.shields.io/github/contributors/psf/requests.svg\" src=\"https://camo.githubusercontent.com/546be78b159c18e98376d504e9ea6a7450c1899f1c39b8102ac4494b567cd1ae/68747470733a2f2f696d672e736869656c64732e696f2f6769746875622f636f6e7472696275746f72732f7073662f72657175657374732e737667\" style=\"max-width:100%;\"/></a>,\n",
       " <a aria-hidden=\"true\" class=\"anchor\" href=\"#installing-requests-and-supported-versions\" id=\"user-content-installing-requests-and-supported-versions\"><svg aria-hidden=\"true\" class=\"octicon octicon-link\" height=\"16\" version=\"1.1\" viewbox=\"0 0 16 16\" width=\"16\"><path d=\"M7.775 3.275a.75.75 0 001.06 1.06l1.25-1.25a2 2 0 112.83 2.83l-2.5 2.5a2 2 0 01-2.83 0 .75.75 0 00-1.06 1.06 3.5 3.5 0 004.95 0l2.5-2.5a3.5 3.5 0 00-4.95-4.95l-1.25 1.25zm-4.69 9.64a2 2 0 010-2.83l2.5-2.5a2 2 0 012.83 0 .75.75 0 001.06-1.06 3.5 3.5 0 00-4.95 0l-2.5 2.5a3.5 3.5 0 004.95 4.95l1.25-1.25a.75.75 0 00-1.06-1.06l-1.25 1.25a2 2 0 01-2.83 0z\" fill-rule=\"evenodd\"></path></svg></a>,\n",
       " <a aria-hidden=\"true\" class=\"anchor\" href=\"#supported-features--bestpractices\" id=\"user-content-supported-features--bestpractices\"><svg aria-hidden=\"true\" class=\"octicon octicon-link\" height=\"16\" version=\"1.1\" viewbox=\"0 0 16 16\" width=\"16\"><path d=\"M7.775 3.275a.75.75 0 001.06 1.06l1.25-1.25a2 2 0 112.83 2.83l-2.5 2.5a2 2 0 01-2.83 0 .75.75 0 00-1.06 1.06 3.5 3.5 0 004.95 0l2.5-2.5a3.5 3.5 0 00-4.95-4.95l-1.25 1.25zm-4.69 9.64a2 2 0 010-2.83l2.5-2.5a2 2 0 012.83 0 .75.75 0 001.06-1.06 3.5 3.5 0 00-4.95 0l-2.5 2.5a3.5 3.5 0 004.95 4.95l1.25-1.25a.75.75 0 00-1.06-1.06l-1.25 1.25a2 2 0 01-2.83 0z\" fill-rule=\"evenodd\"></path></svg></a>,\n",
       " <a aria-hidden=\"true\" class=\"anchor\" href=\"#api-reference-and-user-guide-available-on-read-the-docs\" id=\"user-content-api-reference-and-user-guide-available-on-read-the-docs\"><svg aria-hidden=\"true\" class=\"octicon octicon-link\" height=\"16\" version=\"1.1\" viewbox=\"0 0 16 16\" width=\"16\"><path d=\"M7.775 3.275a.75.75 0 001.06 1.06l1.25-1.25a2 2 0 112.83 2.83l-2.5 2.5a2 2 0 01-2.83 0 .75.75 0 00-1.06 1.06 3.5 3.5 0 004.95 0l2.5-2.5a3.5 3.5 0 00-4.95-4.95l-1.25 1.25zm-4.69 9.64a2 2 0 010-2.83l2.5-2.5a2 2 0 012.83 0 .75.75 0 001.06-1.06 3.5 3.5 0 00-4.95 0l-2.5 2.5a3.5 3.5 0 004.95 4.95l1.25-1.25a.75.75 0 00-1.06-1.06l-1.25 1.25a2 2 0 01-2.83 0z\" fill-rule=\"evenodd\"></path></svg></a>,\n",
       " <a href=\"https://requests.readthedocs.io\" rel=\"nofollow\">Read the Docs</a>,\n",
       " <a href=\"https://requests.readthedocs.io\" rel=\"nofollow\"><img alt=\"Read the Docs\" src=\"https://raw.githubusercontent.com/psf/requests/master/ext/ss.png\" style=\"max-width:100%;\"/></a>,\n",
       " <a aria-hidden=\"true\" class=\"anchor\" href=\"#cloning-the-repository\" id=\"user-content-cloning-the-repository\"><svg aria-hidden=\"true\" class=\"octicon octicon-link\" height=\"16\" version=\"1.1\" viewbox=\"0 0 16 16\" width=\"16\"><path d=\"M7.775 3.275a.75.75 0 001.06 1.06l1.25-1.25a2 2 0 112.83 2.83l-2.5 2.5a2 2 0 01-2.83 0 .75.75 0 00-1.06 1.06 3.5 3.5 0 004.95 0l2.5-2.5a3.5 3.5 0 00-4.95-4.95l-1.25 1.25zm-4.69 9.64a2 2 0 010-2.83l2.5-2.5a2 2 0 012.83 0 .75.75 0 001.06-1.06 3.5 3.5 0 00-4.95 0l-2.5 2.5a3.5 3.5 0 004.95 4.95l1.25-1.25a.75.75 0 00-1.06-1.06l-1.25 1.25a2 2 0 01-2.83 0z\" fill-rule=\"evenodd\"></path></svg></a>,\n",
       " <a href=\"https://github.com/psf/requests/issues/2690\">this issue</a>,\n",
       " <a href=\"https://kennethreitz.org\" rel=\"nofollow\"><img alt=\"Kenneth Reitz\" src=\"https://raw.githubusercontent.com/psf/requests/master/ext/kr.png\" style=\"max-width:100%;\"/></a>,\n",
       " <a href=\"https://www.python.org/psf\" rel=\"nofollow\"><img alt=\"Python Software Foundation\" src=\"https://raw.githubusercontent.com/psf/requests/master/ext/psf.png\" style=\"max-width:100%;\"/></a>,\n",
       " <a class=\"text-bold\" href=\"https://requests.readthedocs.io\" rel=\"noopener noreferrer\" role=\"link\" target=\"_blank\" title=\"https://requests.readthedocs.io\">requests.readthedocs.io</a>,\n",
       " <a class=\"topic-tag topic-tag-link\" data-ga-click=\"Topic, repository page\" data-octo-click=\"topic_click\" data-octo-dimensions=\"topic:python\" data-view-component=\"true\" href=\"/topics/python\" title=\"Topic: python\">\n",
       "   python\n",
       " </a>,\n",
       " <a class=\"topic-tag topic-tag-link\" data-ga-click=\"Topic, repository page\" data-octo-click=\"topic_click\" data-octo-dimensions=\"topic:http\" data-view-component=\"true\" href=\"/topics/http\" title=\"Topic: http\">\n",
       "   http\n",
       " </a>,\n",
       " <a class=\"topic-tag topic-tag-link\" data-ga-click=\"Topic, repository page\" data-octo-click=\"topic_click\" data-octo-dimensions=\"topic:client\" data-view-component=\"true\" href=\"/topics/client\" title=\"Topic: client\">\n",
       "   client\n",
       " </a>,\n",
       " <a class=\"topic-tag topic-tag-link\" data-ga-click=\"Topic, repository page\" data-octo-click=\"topic_click\" data-octo-dimensions=\"topic:cookies\" data-view-component=\"true\" href=\"/topics/cookies\" title=\"Topic: cookies\">\n",
       "   cookies\n",
       " </a>,\n",
       " <a class=\"topic-tag topic-tag-link\" data-ga-click=\"Topic, repository page\" data-octo-click=\"topic_click\" data-octo-dimensions=\"topic:requests\" data-view-component=\"true\" href=\"/topics/requests\" title=\"Topic: requests\">\n",
       "   requests\n",
       " </a>,\n",
       " <a class=\"topic-tag topic-tag-link\" data-ga-click=\"Topic, repository page\" data-octo-click=\"topic_click\" data-octo-dimensions=\"topic:humans\" data-view-component=\"true\" href=\"/topics/humans\" title=\"Topic: humans\">\n",
       "   humans\n",
       " </a>,\n",
       " <a class=\"topic-tag topic-tag-link\" data-ga-click=\"Topic, repository page\" data-octo-click=\"topic_click\" data-octo-dimensions=\"topic:forhumans\" data-view-component=\"true\" href=\"/topics/forhumans\" title=\"Topic: forhumans\">\n",
       "   forhumans\n",
       " </a>,\n",
       " <a class=\"topic-tag topic-tag-link\" data-ga-click=\"Topic, repository page\" data-octo-click=\"topic_click\" data-octo-dimensions=\"topic:python-requests\" data-view-component=\"true\" href=\"/topics/python-requests\" title=\"Topic: python-requests\">\n",
       "   python-requests\n",
       " </a>,\n",
       " <a class=\"Link--muted\" href=\"#readme\">\n",
       " <svg aria-hidden=\"true\" class=\"octicon octicon-book mr-2\" data-view-component=\"true\" height=\"16\" version=\"1.1\" viewbox=\"0 0 16 16\" width=\"16\">\n",
       " <path d=\"M0 1.75A.75.75 0 01.75 1h4.253c1.227 0 2.317.59 3 1.501A3.744 3.744 0 0111.006 1h4.245a.75.75 0 01.75.75v10.5a.75.75 0 01-.75.75h-4.507a2.25 2.25 0 00-1.591.659l-.622.621a.75.75 0 01-1.06 0l-.622-.621A2.25 2.25 0 005.258 13H.75a.75.75 0 01-.75-.75V1.75zm8.755 3a2.25 2.25 0 012.25-2.25H14.5v9h-3.757c-.71 0-1.4.201-1.992.572l.004-7.322zm-1.504 7.324l.004-5.073-.002-2.253A2.25 2.25 0 005.003 2.5H1.5v9h3.757a3.75 3.75 0 011.994.574z\" fill-rule=\"evenodd\"></path>\n",
       " </svg>\n",
       "       Readme\n",
       " </a>,\n",
       " <a class=\"Link--muted\" href=\"/psf/requests/blob/master/LICENSE\">\n",
       " <svg aria-hidden=\"true\" class=\"octicon octicon-law mr-2\" data-view-component=\"true\" height=\"16\" version=\"1.1\" viewbox=\"0 0 16 16\" width=\"16\">\n",
       " <path d=\"M8.75.75a.75.75 0 00-1.5 0V2h-.984c-.305 0-.604.08-.869.23l-1.288.737A.25.25 0 013.984 3H1.75a.75.75 0 000 1.5h.428L.066 9.192a.75.75 0 00.154.838l.53-.53-.53.53v.001l.002.002.002.002.006.006.016.015.045.04a3.514 3.514 0 00.686.45A4.492 4.492 0 003 11c.88 0 1.556-.22 2.023-.454a3.515 3.515 0 00.686-.45l.045-.04.016-.015.006-.006.002-.002.001-.002L5.25 9.5l.53.53a.75.75 0 00.154-.838L3.822 4.5h.162c.305 0 .604-.08.869-.23l1.289-.737a.25.25 0 01.124-.033h.984V13h-2.5a.75.75 0 000 1.5h6.5a.75.75 0 000-1.5h-2.5V3.5h.984a.25.25 0 01.124.033l1.29.736c.264.152.563.231.868.231h.162l-2.112 4.692a.75.75 0 00.154.838l.53-.53-.53.53v.001l.002.002.002.002.006.006.016.015.045.04a3.517 3.517 0 00.686.45A4.492 4.492 0 0013 11c.88 0 1.556-.22 2.023-.454a3.512 3.512 0 00.686-.45l.045-.04.01-.01.006-.005.006-.006.002-.002.001-.002-.529-.531.53.53a.75.75 0 00.154-.838L13.823 4.5h.427a.75.75 0 000-1.5h-2.234a.25.25 0 01-.124-.033l-1.29-.736A1.75 1.75 0 009.735 2H8.75V.75zM1.695 9.227c.285.135.718.273 1.305.273s1.02-.138 1.305-.273L3 6.327l-1.305 2.9zm10 0c.285.135.718.273 1.305.273s1.02-.138 1.305-.273L13 6.327l-1.305 2.9z\" fill-rule=\"evenodd\"></path>\n",
       " </svg>\n",
       "         Apache-2.0 License\n",
       "     </a>,\n",
       " <a class=\"Link--primary no-underline\" data-view-component=\"true\" href=\"/psf/requests/releases\">\n",
       "     Releases\n",
       " </a>,\n",
       " <a class=\"Link--primary no-underline\" href=\"/psf/requests/releases\">\n",
       " <svg aria-hidden=\"true\" class=\"octicon octicon-tag\" data-view-component=\"true\" height=\"16\" version=\"1.1\" viewbox=\"0 0 16 16\" width=\"16\">\n",
       " <path d=\"M2.5 7.775V2.75a.25.25 0 01.25-.25h5.025a.25.25 0 01.177.073l6.25 6.25a.25.25 0 010 .354l-5.025 5.025a.25.25 0 01-.354 0l-6.25-6.25a.25.25 0 01-.073-.177zm-1.5 0V2.75C1 1.784 1.784 1 2.75 1h5.025c.464 0 .91.184 1.238.513l6.25 6.25a1.75 1.75 0 010 2.474l-5.026 5.026a1.75 1.75 0 01-2.474 0l-6.25-6.25A1.75 1.75 0 011 7.775zM6 5a1 1 0 100 2 1 1 0 000-2z\" fill-rule=\"evenodd\"></path>\n",
       " </svg>\n",
       " <span class=\"text-bold\">141</span>\n",
       " <span class=\"color-text-secondary\">tags</span>\n",
       " </a>,\n",
       " <a data-ga-click=\"Dashboard, click, Nav menu - item:org-profile context:organization\" data-hydro-click='{\"event_type\":\"sponsors.repo_funding_links_link_click\",\"payload\":{\"platform\":{\"platform_type\":\"CUSTOM\",\"platform_url\":\"https://www.python.org/psf/sponsorship/\"},\"platforms\":[{\"platform_type\":\"CUSTOM\",\"platform_url\":\"https://www.python.org/psf/sponsorship/\"}],\"repo_id\":1362490,\"owner_id\":50630501,\"user_id\":null,\"originating_url\":\"https://github.com/psf/requests\"}}' data-hydro-click-hmac=\"b1d796963e0e158ecc577411a484b6a6fc049a02d0359673b99875e01132cff0\" href=\"https://www.python.org/psf/sponsorship/\" rel=\"noopener noreferrer\" target=\"_blank\">https://www.python.org/psf/sponsorship/</a>,\n",
       " <a class=\"Link--primary no-underline\" data-view-component=\"true\" href=\"/psf/requests/network/dependents?package_id=UGFja2FnZS01NzA4OTExNg%3D%3D\">\n",
       "         Used by <span class=\"Counter\" data-view-component=\"true\" title=\"941,526\">942k</span>\n",
       " </a>,\n",
       " <a class=\"d-flex flex-items-center\" href=\"/psf/requests/network/dependents?package_id=UGFja2FnZS01NzA4OTExNg%3D%3D\">\n",
       " <ul class=\"hx_flex-avatar-stack list-style-none min-width-0\">\n",
       " <li class=\"hx_flex-avatar-stack-item\">\n",
       " <img alt=\"@amalshaji\" class=\"avatar avatar-user\" height=\"32\" src=\"https://avatars.githubusercontent.com/u/18011385?s=88&amp;u=cc0716977cfadedcc4c4041aa6c79e1f6aad8746&amp;v=4\" width=\"32\">\n",
       " </img></li>\n",
       " <li class=\"hx_flex-avatar-stack-item\">\n",
       " <img alt=\"@sandheepk27\" class=\"avatar avatar-user\" height=\"32\" src=\"https://avatars.githubusercontent.com/u/47096873?s=88&amp;v=4\" width=\"32\">\n",
       " </img></li>\n",
       " <li class=\"hx_flex-avatar-stack-item\">\n",
       " <img alt=\"@Dev05-Telnet\" class=\"avatar avatar-user\" height=\"32\" src=\"https://avatars.githubusercontent.com/u/71143736?s=88&amp;u=1682c9cbe2375d99d8b41ea6205685d6d1cf2ac8&amp;v=4\" width=\"32\">\n",
       " </img></li>\n",
       " <li class=\"hx_flex-avatar-stack-item\">\n",
       " <img alt=\"@crowdbotics-apps\" class=\"avatar avatar-user\" height=\"32\" src=\"https://avatars.githubusercontent.com/u/46582385?s=88&amp;u=5a21a2ef82c647f322f6a9a150d60dde5b1143be&amp;v=4\" width=\"32\">\n",
       " </img></li>\n",
       " <li class=\"hx_flex-avatar-stack-item\">\n",
       " <img alt=\"@foemy123\" class=\"avatar avatar-user\" height=\"32\" src=\"https://avatars.githubusercontent.com/u/85613361?s=88&amp;v=4\" width=\"32\">\n",
       " </img></li>\n",
       " <li class=\"hx_flex-avatar-stack-item\">\n",
       " <img alt=\"@BotsVain\" class=\"avatar avatar-user\" height=\"32\" src=\"https://avatars.githubusercontent.com/u/84259213?s=88&amp;v=4\" width=\"32\">\n",
       " </img></li>\n",
       " <li class=\"hx_flex-avatar-stack-item\">\n",
       " <img alt=\"@Chocolate-Monster\" class=\"avatar avatar-user\" height=\"32\" src=\"https://avatars.githubusercontent.com/u/82182857?s=88&amp;u=cba88644030d1e64bb03d688db0a49fe23614717&amp;v=4\" width=\"32\">\n",
       " </img></li>\n",
       " <li class=\"hx_flex-avatar-stack-item\">\n",
       " <img alt=\"@nayanex\" class=\"avatar avatar-user\" height=\"32\" src=\"https://avatars.githubusercontent.com/u/3999511?s=88&amp;u=24524e61f7fce185b8e28b7eb9b45343d3330291&amp;v=4\" width=\"32\">\n",
       " </img></li>\n",
       " </ul>\n",
       " <span class=\"px-2 text-bold text-small no-wrap\">\n",
       "             + 941,518\n",
       "           </span>\n",
       " </a>,\n",
       " <a class=\"Link--primary no-underline\" data-view-component=\"true\" href=\"/psf/requests/graphs/contributors\">\n",
       "     Contributors <span class=\"Counter\" data-view-component=\"true\" title=\"610\">610</span>\n",
       " </a>,\n",
       " <a class=\"\" data-hovercard-type=\"user\" data-hovercard-url=\"/users/kennethreitz/hovercard\" data-octo-click=\"hovercard-link-click\" data-octo-dimensions=\"link_type:self\" href=\"/kennethreitz\">\n",
       " <img alt=\"@kennethreitz\" class=\"d-block avatar-user\" height=\"32\" src=\"https://avatars.githubusercontent.com/u/119893?s=64&amp;v=4\" width=\"32\">\n",
       " </img></a>,\n",
       " <a class=\"\" data-hovercard-type=\"user\" data-hovercard-url=\"/users/Lukasa/hovercard\" data-octo-click=\"hovercard-link-click\" data-octo-dimensions=\"link_type:self\" href=\"/Lukasa\">\n",
       " <img alt=\"@Lukasa\" class=\"d-block avatar-user\" height=\"32\" src=\"https://avatars.githubusercontent.com/u/1382556?s=64&amp;v=4\" width=\"32\">\n",
       " </img></a>,\n",
       " <a class=\"\" data-hovercard-type=\"user\" data-hovercard-url=\"/users/sigmavirus24/hovercard\" data-octo-click=\"hovercard-link-click\" data-octo-dimensions=\"link_type:self\" href=\"/sigmavirus24\">\n",
       " <img alt=\"@sigmavirus24\" class=\"d-block avatar-user\" height=\"32\" src=\"https://avatars.githubusercontent.com/u/240830?s=64&amp;v=4\" width=\"32\"/>\n",
       " </a>,\n",
       " <a class=\"\" data-hovercard-type=\"user\" data-hovercard-url=\"/users/nateprewitt/hovercard\" data-octo-click=\"hovercard-link-click\" data-octo-dimensions=\"link_type:self\" href=\"/nateprewitt\">\n",
       " <img alt=\"@nateprewitt\" class=\"d-block avatar-user\" height=\"32\" src=\"https://avatars.githubusercontent.com/u/5271761?s=64&amp;v=4\" width=\"32\"/>\n",
       " </a>,\n",
       " <a class=\"\" data-hovercard-type=\"user\" data-hovercard-url=\"/users/slingamn/hovercard\" data-octo-click=\"hovercard-link-click\" data-octo-dimensions=\"link_type:self\" href=\"/slingamn\">\n",
       " <img alt=\"@slingamn\" class=\"d-block avatar-user\" height=\"32\" src=\"https://avatars.githubusercontent.com/u/376448?s=64&amp;v=4\" width=\"32\"/>\n",
       " </a>,\n",
       " <a class=\"\" data-hovercard-type=\"user\" data-hovercard-url=\"/users/BraulioVM/hovercard\" data-octo-click=\"hovercard-link-click\" data-octo-dimensions=\"link_type:self\" href=\"/BraulioVM\">\n",
       " <img alt=\"@BraulioVM\" class=\"d-block avatar-user\" height=\"32\" src=\"https://avatars.githubusercontent.com/u/715372?s=64&amp;v=4\" width=\"32\"/>\n",
       " </a>,\n",
       " <a class=\"\" data-hovercard-type=\"user\" data-hovercard-url=\"/users/dpursehouse/hovercard\" data-octo-click=\"hovercard-link-click\" data-octo-dimensions=\"link_type:self\" href=\"/dpursehouse\">\n",
       " <img alt=\"@dpursehouse\" class=\"d-block avatar-user\" height=\"32\" src=\"https://avatars.githubusercontent.com/u/836426?s=64&amp;v=4\" width=\"32\"/>\n",
       " </a>,\n",
       " <a class=\"\" data-hovercard-type=\"user\" data-hovercard-url=\"/users/kevinburke/hovercard\" data-octo-click=\"hovercard-link-click\" data-octo-dimensions=\"link_type:self\" href=\"/kevinburke\">\n",
       " <img alt=\"@kevinburke\" class=\"d-block avatar-user\" height=\"32\" src=\"https://avatars.githubusercontent.com/u/234019?s=64&amp;v=4\" width=\"32\"/>\n",
       " </a>,\n",
       " <a class=\"\" data-hovercard-type=\"user\" data-hovercard-url=\"/users/jgorset/hovercard\" data-octo-click=\"hovercard-link-click\" data-octo-dimensions=\"link_type:self\" href=\"/jgorset\">\n",
       " <img alt=\"@jgorset\" class=\"d-block avatar-user\" height=\"32\" src=\"https://avatars.githubusercontent.com/u/195266?s=64&amp;v=4\" width=\"32\"/>\n",
       " </a>,\n",
       " <a class=\"\" data-hovercard-type=\"user\" data-hovercard-url=\"/users/daftshady/hovercard\" data-octo-click=\"hovercard-link-click\" data-octo-dimensions=\"link_type:self\" href=\"/daftshady\">\n",
       " <img alt=\"@daftshady\" class=\"d-block avatar-user\" height=\"32\" src=\"https://avatars.githubusercontent.com/u/3482660?s=64&amp;v=4\" width=\"32\"/>\n",
       " </a>,\n",
       " <a class=\"\" data-hovercard-type=\"user\" data-hovercard-url=\"/users/jerem/hovercard\" data-octo-click=\"hovercard-link-click\" data-octo-dimensions=\"link_type:self\" href=\"/jerem\">\n",
       " <img alt=\"@jerem\" class=\"d-block avatar-user\" height=\"32\" src=\"https://avatars.githubusercontent.com/u/36156?s=64&amp;v=4\" width=\"32\"/>\n",
       " </a>,\n",
       " <a class=\"text-small\" data-view-component=\"true\" href=\"/psf/requests/graphs/contributors\">\n",
       "       + 599 contributors\n",
       " </a>,\n",
       " <a class=\"d-inline-flex flex-items-center flex-nowrap Link--secondary no-underline text-small mr-3\" data-ga-click=\"Repository, language stats search click, location:repo overview\" href=\"/psf/requests/search?l=python\">\n",
       " <svg aria-hidden=\"true\" class=\"octicon octicon-dot-fill mr-2\" height=\"16\" style=\"color:#3572A5;\" version=\"1.1\" viewbox=\"0 0 16 16\" width=\"16\"><path d=\"M8 4a4 4 0 100 8 4 4 0 000-8z\" fill-rule=\"evenodd\"></path></svg>\n",
       " <span class=\"color-text-primary text-bold mr-1\">Python</span>\n",
       " <span>99.7%</span>\n",
       " </a>,\n",
       " <a class=\"d-inline-flex flex-items-center flex-nowrap Link--secondary no-underline text-small mr-3\" data-ga-click=\"Repository, language stats search click, location:repo overview\" href=\"/psf/requests/search?l=makefile\">\n",
       " <svg aria-hidden=\"true\" class=\"octicon octicon-dot-fill mr-2\" height=\"16\" style=\"color:#427819;\" version=\"1.1\" viewbox=\"0 0 16 16\" width=\"16\"><path d=\"M8 4a4 4 0 100 8 4 4 0 000-8z\" fill-rule=\"evenodd\"></path></svg>\n",
       " <span class=\"color-text-primary text-bold mr-1\">Makefile</span>\n",
       " <span>0.3%</span>\n",
       " </a>,\n",
       " <a data-ga-click=\"Footer, go to terms, text:terms\" href=\"https://docs.github.com/en/github/site-policy/github-terms-of-service\">Terms</a>,\n",
       " <a data-ga-click=\"Footer, go to privacy, text:privacy\" href=\"https://docs.github.com/en/github/site-policy/github-privacy-statement\">Privacy</a>,\n",
       " <a data-ga-click=\"Footer, go to security, text:security\" href=\"https://github.com/security\">Security</a>,\n",
       " <a data-ga-click=\"Footer, go to status, text:status\" href=\"https://www.githubstatus.com/\">Status</a>,\n",
       " <a data-ga-click=\"Footer, go to help, text:Docs\" href=\"https://docs.github.com\">Docs</a>,\n",
       " <a aria-label=\"Homepage\" class=\"footer-octicon d-none d-lg-block mx-lg-4\" href=\"https://github.com\" title=\"GitHub\">\n",
       " <svg aria-hidden=\"true\" class=\"octicon octicon-mark-github\" data-view-component=\"true\" height=\"24\" version=\"1.1\" viewbox=\"0 0 16 16\" width=\"24\">\n",
       " <path d=\"M8 0C3.58 0 0 3.58 0 8c0 3.54 2.29 6.53 5.47 7.59.4.07.55-.17.55-.38 0-.19-.01-.82-.01-1.49-2.01.37-2.53-.49-2.69-.94-.09-.23-.48-.94-.82-1.13-.28-.15-.68-.52-.01-.53.63-.01 1.08.58 1.23.82.72 1.21 1.87.87 2.33.66.07-.52.28-.87.51-1.07-1.78-.2-3.64-.89-3.64-3.95 0-.87.31-1.59.82-2.15-.08-.2-.36-1.02.08-2.12 0 0 .67-.21 2.2.82.64-.18 1.32-.27 2-.27.68 0 1.36.09 2 .27 1.53-1.04 2.2-.82 2.2-.82.44 1.1.16 1.92.08 2.12.51.56.82 1.27.82 2.15 0 3.07-1.87 3.75-3.65 3.95.29.25.54.73.54 1.48 0 1.07-.01 1.93-.01 2.2 0 .21.15.46.55.38A8.013 8.013 0 0016 8c0-4.42-3.58-8-8-8z\" fill-rule=\"evenodd\"></path>\n",
       " </svg>\n",
       " </a>,\n",
       " <a data-ga-click=\"Footer, go to contact, text:contact\" href=\"https://support.github.com\">Contact GitHub</a>,\n",
       " <a data-ga-click=\"Footer, go to Pricing, text:Pricing\" href=\"https://github.com/pricing\">Pricing</a>,\n",
       " <a data-ga-click=\"Footer, go to api, text:api\" href=\"https://docs.github.com\">API</a>,\n",
       " <a data-ga-click=\"Footer, go to training, text:training\" href=\"https://services.github.com\">Training</a>,\n",
       " <a data-ga-click=\"Footer, go to blog, text:blog\" href=\"https://github.blog\">Blog</a>,\n",
       " <a data-ga-click=\"Footer, go to about, text:about\" href=\"https://github.com/about\">About</a>,\n",
       " <a href=\"\">Reload</a>,\n",
       " <a href=\"\">Reload</a>]"
      ]
     },
     "metadata": {},
     "execution_count": 28
    }
   ],
   "source": [
    "data.find_all('a')                                                                            #all a tags"
   ]
  }
 ]
}